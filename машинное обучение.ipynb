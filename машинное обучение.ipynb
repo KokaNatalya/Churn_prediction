{
 "cells": [
  {
   "cell_type": "markdown",
   "metadata": {},
   "source": [
    "# Проект по прогнозированию оттока клиентов фитнес-клуба"
   ]
  },
  {
   "cell_type": "markdown",
   "metadata": {},
   "source": [
    "**цель** - подготовить план действий по удержанию клиентов фитнес-клуба.\n",
    "\n",
    "**задачи:**\n",
    "- научиться прогнозировать вероятность оттока (на уровне следующего месяца) для каждого клиента;\n",
    "- сформировать типичные портреты клиентов;\n",
    "- проанализировать основные признаки, наиболее сильно влияющие на отток;\n",
    "- разработать рекомендации по повышению качества работы с клиентами:\n",
    "    - выделить целевые группы клиентов;\n",
    "    - предложить меры по снижению оттока;\n",
    "    - определить другие особенности взаимодействия с клиентами.\n",
    "\n",
    "**Данные** - электронные анкеты клиентов фитнес-клуба 4000 шт"
   ]
  },
  {
   "cell_type": "code",
   "execution_count": 1,
   "metadata": {
    "scrolled": true
   },
   "outputs": [],
   "source": [
    "import pandas as pd\n",
    "import seaborn as sns\n",
    "import matplotlib.pyplot as plt\n",
    "from sklearn.model_selection import train_test_split\n",
    "from sklearn.linear_model import LogisticRegression\n",
    "from sklearn.ensemble import RandomForestClassifier\n",
    "from sklearn.metrics import accuracy_score, precision_score, recall_score, f1_score, roc_auc_score\n",
    "from sklearn.preprocessing import StandardScaler\n",
    "from scipy.cluster.hierarchy import dendrogram, linkage \n",
    "from sklearn.cluster import KMeans"
   ]
  },
  {
   "cell_type": "markdown",
   "metadata": {},
   "source": [
    "## исследовательский анализ данных"
   ]
  },
  {
   "cell_type": "code",
   "execution_count": 2,
   "metadata": {
    "scrolled": false
   },
   "outputs": [
    {
     "data": {
      "text/html": [
       "<div>\n",
       "<style scoped>\n",
       "    .dataframe tbody tr th:only-of-type {\n",
       "        vertical-align: middle;\n",
       "    }\n",
       "\n",
       "    .dataframe tbody tr th {\n",
       "        vertical-align: top;\n",
       "    }\n",
       "\n",
       "    .dataframe thead th {\n",
       "        text-align: right;\n",
       "    }\n",
       "</style>\n",
       "<table border=\"1\" class=\"dataframe\">\n",
       "  <thead>\n",
       "    <tr style=\"text-align: right;\">\n",
       "      <th></th>\n",
       "      <th>gender</th>\n",
       "      <th>Near_Location</th>\n",
       "      <th>Partner</th>\n",
       "      <th>Promo_friends</th>\n",
       "      <th>Phone</th>\n",
       "      <th>Contract_period</th>\n",
       "      <th>Group_visits</th>\n",
       "      <th>Age</th>\n",
       "      <th>Avg_additional_charges_total</th>\n",
       "      <th>Month_to_end_contract</th>\n",
       "      <th>Lifetime</th>\n",
       "      <th>Avg_class_frequency_total</th>\n",
       "      <th>Avg_class_frequency_current_month</th>\n",
       "      <th>Churn</th>\n",
       "    </tr>\n",
       "  </thead>\n",
       "  <tbody>\n",
       "    <tr>\n",
       "      <th>0</th>\n",
       "      <td>1</td>\n",
       "      <td>1</td>\n",
       "      <td>1</td>\n",
       "      <td>1</td>\n",
       "      <td>0</td>\n",
       "      <td>6</td>\n",
       "      <td>1</td>\n",
       "      <td>29</td>\n",
       "      <td>14.227470</td>\n",
       "      <td>5.0</td>\n",
       "      <td>3</td>\n",
       "      <td>0.020398</td>\n",
       "      <td>0.000000</td>\n",
       "      <td>0</td>\n",
       "    </tr>\n",
       "    <tr>\n",
       "      <th>1</th>\n",
       "      <td>0</td>\n",
       "      <td>1</td>\n",
       "      <td>0</td>\n",
       "      <td>0</td>\n",
       "      <td>1</td>\n",
       "      <td>12</td>\n",
       "      <td>1</td>\n",
       "      <td>31</td>\n",
       "      <td>113.202938</td>\n",
       "      <td>12.0</td>\n",
       "      <td>7</td>\n",
       "      <td>1.922936</td>\n",
       "      <td>1.910244</td>\n",
       "      <td>0</td>\n",
       "    </tr>\n",
       "    <tr>\n",
       "      <th>2</th>\n",
       "      <td>0</td>\n",
       "      <td>1</td>\n",
       "      <td>1</td>\n",
       "      <td>0</td>\n",
       "      <td>1</td>\n",
       "      <td>1</td>\n",
       "      <td>0</td>\n",
       "      <td>28</td>\n",
       "      <td>129.448479</td>\n",
       "      <td>1.0</td>\n",
       "      <td>2</td>\n",
       "      <td>1.859098</td>\n",
       "      <td>1.736502</td>\n",
       "      <td>0</td>\n",
       "    </tr>\n",
       "    <tr>\n",
       "      <th>3</th>\n",
       "      <td>0</td>\n",
       "      <td>1</td>\n",
       "      <td>1</td>\n",
       "      <td>1</td>\n",
       "      <td>1</td>\n",
       "      <td>12</td>\n",
       "      <td>1</td>\n",
       "      <td>33</td>\n",
       "      <td>62.669863</td>\n",
       "      <td>12.0</td>\n",
       "      <td>2</td>\n",
       "      <td>3.205633</td>\n",
       "      <td>3.357215</td>\n",
       "      <td>0</td>\n",
       "    </tr>\n",
       "    <tr>\n",
       "      <th>4</th>\n",
       "      <td>1</td>\n",
       "      <td>1</td>\n",
       "      <td>1</td>\n",
       "      <td>1</td>\n",
       "      <td>1</td>\n",
       "      <td>1</td>\n",
       "      <td>0</td>\n",
       "      <td>26</td>\n",
       "      <td>198.362265</td>\n",
       "      <td>1.0</td>\n",
       "      <td>3</td>\n",
       "      <td>1.113884</td>\n",
       "      <td>1.120078</td>\n",
       "      <td>0</td>\n",
       "    </tr>\n",
       "  </tbody>\n",
       "</table>\n",
       "</div>"
      ],
      "text/plain": [
       "   gender  Near_Location  Partner  Promo_friends  Phone  Contract_period  \\\n",
       "0       1              1        1              1      0                6   \n",
       "1       0              1        0              0      1               12   \n",
       "2       0              1        1              0      1                1   \n",
       "3       0              1        1              1      1               12   \n",
       "4       1              1        1              1      1                1   \n",
       "\n",
       "   Group_visits  Age  Avg_additional_charges_total  Month_to_end_contract  \\\n",
       "0             1   29                     14.227470                    5.0   \n",
       "1             1   31                    113.202938                   12.0   \n",
       "2             0   28                    129.448479                    1.0   \n",
       "3             1   33                     62.669863                   12.0   \n",
       "4             0   26                    198.362265                    1.0   \n",
       "\n",
       "   Lifetime  Avg_class_frequency_total  Avg_class_frequency_current_month  \\\n",
       "0         3                   0.020398                           0.000000   \n",
       "1         7                   1.922936                           1.910244   \n",
       "2         2                   1.859098                           1.736502   \n",
       "3         2                   3.205633                           3.357215   \n",
       "4         3                   1.113884                           1.120078   \n",
       "\n",
       "   Churn  \n",
       "0      0  \n",
       "1      0  \n",
       "2      0  \n",
       "3      0  \n",
       "4      0  "
      ]
     },
     "metadata": {},
     "output_type": "display_data"
    },
    {
     "name": "stdout",
     "output_type": "stream",
     "text": [
      "<class 'pandas.core.frame.DataFrame'>\n",
      "RangeIndex: 4000 entries, 0 to 3999\n",
      "Data columns (total 14 columns):\n",
      " #   Column                             Non-Null Count  Dtype  \n",
      "---  ------                             --------------  -----  \n",
      " 0   gender                             4000 non-null   int64  \n",
      " 1   Near_Location                      4000 non-null   int64  \n",
      " 2   Partner                            4000 non-null   int64  \n",
      " 3   Promo_friends                      4000 non-null   int64  \n",
      " 4   Phone                              4000 non-null   int64  \n",
      " 5   Contract_period                    4000 non-null   int64  \n",
      " 6   Group_visits                       4000 non-null   int64  \n",
      " 7   Age                                4000 non-null   int64  \n",
      " 8   Avg_additional_charges_total       4000 non-null   float64\n",
      " 9   Month_to_end_contract              4000 non-null   float64\n",
      " 10  Lifetime                           4000 non-null   int64  \n",
      " 11  Avg_class_frequency_total          4000 non-null   float64\n",
      " 12  Avg_class_frequency_current_month  4000 non-null   float64\n",
      " 13  Churn                              4000 non-null   int64  \n",
      "dtypes: float64(4), int64(10)\n",
      "memory usage: 437.6 KB\n"
     ]
    },
    {
     "data": {
      "text/plain": [
       "None"
      ]
     },
     "metadata": {},
     "output_type": "display_data"
    },
    {
     "data": {
      "text/html": [
       "<div>\n",
       "<style scoped>\n",
       "    .dataframe tbody tr th:only-of-type {\n",
       "        vertical-align: middle;\n",
       "    }\n",
       "\n",
       "    .dataframe tbody tr th {\n",
       "        vertical-align: top;\n",
       "    }\n",
       "\n",
       "    .dataframe thead th {\n",
       "        text-align: right;\n",
       "    }\n",
       "</style>\n",
       "<table border=\"1\" class=\"dataframe\">\n",
       "  <thead>\n",
       "    <tr style=\"text-align: right;\">\n",
       "      <th></th>\n",
       "      <th>gender</th>\n",
       "      <th>Near_Location</th>\n",
       "      <th>Partner</th>\n",
       "      <th>Promo_friends</th>\n",
       "      <th>Phone</th>\n",
       "      <th>Contract_period</th>\n",
       "      <th>Group_visits</th>\n",
       "      <th>Age</th>\n",
       "      <th>Avg_additional_charges_total</th>\n",
       "      <th>Month_to_end_contract</th>\n",
       "      <th>Lifetime</th>\n",
       "      <th>Avg_class_frequency_total</th>\n",
       "      <th>Avg_class_frequency_current_month</th>\n",
       "      <th>Churn</th>\n",
       "    </tr>\n",
       "  </thead>\n",
       "  <tbody>\n",
       "    <tr>\n",
       "      <th>count</th>\n",
       "      <td>4000.000000</td>\n",
       "      <td>4000.000000</td>\n",
       "      <td>4000.000000</td>\n",
       "      <td>4000.000000</td>\n",
       "      <td>4000.000000</td>\n",
       "      <td>4000.000000</td>\n",
       "      <td>4000.000000</td>\n",
       "      <td>4000.000000</td>\n",
       "      <td>4000.000000</td>\n",
       "      <td>4000.000000</td>\n",
       "      <td>4000.000000</td>\n",
       "      <td>4000.000000</td>\n",
       "      <td>4000.000000</td>\n",
       "      <td>4000.000000</td>\n",
       "    </tr>\n",
       "    <tr>\n",
       "      <th>mean</th>\n",
       "      <td>0.510250</td>\n",
       "      <td>0.845250</td>\n",
       "      <td>0.486750</td>\n",
       "      <td>0.308500</td>\n",
       "      <td>0.903500</td>\n",
       "      <td>4.681250</td>\n",
       "      <td>0.412250</td>\n",
       "      <td>29.184250</td>\n",
       "      <td>146.943728</td>\n",
       "      <td>4.322750</td>\n",
       "      <td>3.724750</td>\n",
       "      <td>1.879020</td>\n",
       "      <td>1.767052</td>\n",
       "      <td>0.265250</td>\n",
       "    </tr>\n",
       "    <tr>\n",
       "      <th>std</th>\n",
       "      <td>0.499957</td>\n",
       "      <td>0.361711</td>\n",
       "      <td>0.499887</td>\n",
       "      <td>0.461932</td>\n",
       "      <td>0.295313</td>\n",
       "      <td>4.549706</td>\n",
       "      <td>0.492301</td>\n",
       "      <td>3.258367</td>\n",
       "      <td>96.355602</td>\n",
       "      <td>4.191297</td>\n",
       "      <td>3.749267</td>\n",
       "      <td>0.972245</td>\n",
       "      <td>1.052906</td>\n",
       "      <td>0.441521</td>\n",
       "    </tr>\n",
       "    <tr>\n",
       "      <th>min</th>\n",
       "      <td>0.000000</td>\n",
       "      <td>0.000000</td>\n",
       "      <td>0.000000</td>\n",
       "      <td>0.000000</td>\n",
       "      <td>0.000000</td>\n",
       "      <td>1.000000</td>\n",
       "      <td>0.000000</td>\n",
       "      <td>18.000000</td>\n",
       "      <td>0.148205</td>\n",
       "      <td>1.000000</td>\n",
       "      <td>0.000000</td>\n",
       "      <td>0.000000</td>\n",
       "      <td>0.000000</td>\n",
       "      <td>0.000000</td>\n",
       "    </tr>\n",
       "    <tr>\n",
       "      <th>25%</th>\n",
       "      <td>0.000000</td>\n",
       "      <td>1.000000</td>\n",
       "      <td>0.000000</td>\n",
       "      <td>0.000000</td>\n",
       "      <td>1.000000</td>\n",
       "      <td>1.000000</td>\n",
       "      <td>0.000000</td>\n",
       "      <td>27.000000</td>\n",
       "      <td>68.868830</td>\n",
       "      <td>1.000000</td>\n",
       "      <td>1.000000</td>\n",
       "      <td>1.180875</td>\n",
       "      <td>0.963003</td>\n",
       "      <td>0.000000</td>\n",
       "    </tr>\n",
       "    <tr>\n",
       "      <th>50%</th>\n",
       "      <td>1.000000</td>\n",
       "      <td>1.000000</td>\n",
       "      <td>0.000000</td>\n",
       "      <td>0.000000</td>\n",
       "      <td>1.000000</td>\n",
       "      <td>1.000000</td>\n",
       "      <td>0.000000</td>\n",
       "      <td>29.000000</td>\n",
       "      <td>136.220159</td>\n",
       "      <td>1.000000</td>\n",
       "      <td>3.000000</td>\n",
       "      <td>1.832768</td>\n",
       "      <td>1.719574</td>\n",
       "      <td>0.000000</td>\n",
       "    </tr>\n",
       "    <tr>\n",
       "      <th>75%</th>\n",
       "      <td>1.000000</td>\n",
       "      <td>1.000000</td>\n",
       "      <td>1.000000</td>\n",
       "      <td>1.000000</td>\n",
       "      <td>1.000000</td>\n",
       "      <td>6.000000</td>\n",
       "      <td>1.000000</td>\n",
       "      <td>31.000000</td>\n",
       "      <td>210.949625</td>\n",
       "      <td>6.000000</td>\n",
       "      <td>5.000000</td>\n",
       "      <td>2.536078</td>\n",
       "      <td>2.510336</td>\n",
       "      <td>1.000000</td>\n",
       "    </tr>\n",
       "    <tr>\n",
       "      <th>max</th>\n",
       "      <td>1.000000</td>\n",
       "      <td>1.000000</td>\n",
       "      <td>1.000000</td>\n",
       "      <td>1.000000</td>\n",
       "      <td>1.000000</td>\n",
       "      <td>12.000000</td>\n",
       "      <td>1.000000</td>\n",
       "      <td>41.000000</td>\n",
       "      <td>552.590740</td>\n",
       "      <td>12.000000</td>\n",
       "      <td>31.000000</td>\n",
       "      <td>6.023668</td>\n",
       "      <td>6.146783</td>\n",
       "      <td>1.000000</td>\n",
       "    </tr>\n",
       "  </tbody>\n",
       "</table>\n",
       "</div>"
      ],
      "text/plain": [
       "            gender  Near_Location      Partner  Promo_friends        Phone  \\\n",
       "count  4000.000000    4000.000000  4000.000000    4000.000000  4000.000000   \n",
       "mean      0.510250       0.845250     0.486750       0.308500     0.903500   \n",
       "std       0.499957       0.361711     0.499887       0.461932     0.295313   \n",
       "min       0.000000       0.000000     0.000000       0.000000     0.000000   \n",
       "25%       0.000000       1.000000     0.000000       0.000000     1.000000   \n",
       "50%       1.000000       1.000000     0.000000       0.000000     1.000000   \n",
       "75%       1.000000       1.000000     1.000000       1.000000     1.000000   \n",
       "max       1.000000       1.000000     1.000000       1.000000     1.000000   \n",
       "\n",
       "       Contract_period  Group_visits          Age  \\\n",
       "count      4000.000000   4000.000000  4000.000000   \n",
       "mean          4.681250      0.412250    29.184250   \n",
       "std           4.549706      0.492301     3.258367   \n",
       "min           1.000000      0.000000    18.000000   \n",
       "25%           1.000000      0.000000    27.000000   \n",
       "50%           1.000000      0.000000    29.000000   \n",
       "75%           6.000000      1.000000    31.000000   \n",
       "max          12.000000      1.000000    41.000000   \n",
       "\n",
       "       Avg_additional_charges_total  Month_to_end_contract     Lifetime  \\\n",
       "count                   4000.000000            4000.000000  4000.000000   \n",
       "mean                     146.943728               4.322750     3.724750   \n",
       "std                       96.355602               4.191297     3.749267   \n",
       "min                        0.148205               1.000000     0.000000   \n",
       "25%                       68.868830               1.000000     1.000000   \n",
       "50%                      136.220159               1.000000     3.000000   \n",
       "75%                      210.949625               6.000000     5.000000   \n",
       "max                      552.590740              12.000000    31.000000   \n",
       "\n",
       "       Avg_class_frequency_total  Avg_class_frequency_current_month  \\\n",
       "count                4000.000000                        4000.000000   \n",
       "mean                    1.879020                           1.767052   \n",
       "std                     0.972245                           1.052906   \n",
       "min                     0.000000                           0.000000   \n",
       "25%                     1.180875                           0.963003   \n",
       "50%                     1.832768                           1.719574   \n",
       "75%                     2.536078                           2.510336   \n",
       "max                     6.023668                           6.146783   \n",
       "\n",
       "             Churn  \n",
       "count  4000.000000  \n",
       "mean      0.265250  \n",
       "std       0.441521  \n",
       "min       0.000000  \n",
       "25%       0.000000  \n",
       "50%       0.000000  \n",
       "75%       1.000000  \n",
       "max       1.000000  "
      ]
     },
     "metadata": {},
     "output_type": "display_data"
    },
    {
     "name": "stdout",
     "output_type": "stream",
     "text": [
      "дубликатов: 0\n"
     ]
    }
   ],
   "source": [
    "df=pd.read_csv('https://code.s3.yandex.net/datasets/gym_churn.csv')\n",
    "display(df.head())\n",
    "display(df.info())\n",
    "display(df.describe())\n",
    "print(f'дубликатов: {df.duplicated().sum()}')"
   ]
  },
  {
   "cell_type": "markdown",
   "metadata": {},
   "source": [
    "- 3/4 клиентов не старше 31 года, при этом больше половины находятся в возрастном диапазоне от 25 до 30.\n",
    "- 35,8% клиентов ходят в зал потому что он рядом с домом, и 48,7% - рядом с работой, что повышает их лояльность.\n",
    "- 30.8% пришли по акции \"приведи друга\"\n",
    "- половина клиентов покупают месячный абонемент\n",
    "- большая часть клиентов ходит в зал менее полугода, но есть редкие \"долгожители\", которые посещают его 2,5 года.\n",
    "- в среднем клиенты посещают зал 1-2 раза в неделю.\n",
    "- те кто ходят в зал 2 раза и чаще, обычно не уменьшают число посешений в неделю, в отличие от тех, кто ходит 1 раз в неделю.\n",
    "- 41% посщает групповые занятия\n",
    "- средний отток 26,5% в месяц.\n",
    "\n",
    "посмотрим на данные в разрезе оттекших и оставшихся клиентов"
   ]
  },
  {
   "cell_type": "code",
   "execution_count": 3,
   "metadata": {},
   "outputs": [
    {
     "name": "stdout",
     "output_type": "stream",
     "text": [
      "----------------оттекшие клиенты-----------------\n"
     ]
    },
    {
     "data": {
      "text/html": [
       "<div>\n",
       "<style scoped>\n",
       "    .dataframe tbody tr th:only-of-type {\n",
       "        vertical-align: middle;\n",
       "    }\n",
       "\n",
       "    .dataframe tbody tr th {\n",
       "        vertical-align: top;\n",
       "    }\n",
       "\n",
       "    .dataframe thead th {\n",
       "        text-align: right;\n",
       "    }\n",
       "</style>\n",
       "<table border=\"1\" class=\"dataframe\">\n",
       "  <thead>\n",
       "    <tr style=\"text-align: right;\">\n",
       "      <th></th>\n",
       "      <th>gender</th>\n",
       "      <th>near_location</th>\n",
       "      <th>partner</th>\n",
       "      <th>promo_friends</th>\n",
       "      <th>phone</th>\n",
       "      <th>contract_period</th>\n",
       "      <th>group_visits</th>\n",
       "      <th>age</th>\n",
       "      <th>avg_additional_charges_total</th>\n",
       "      <th>month_to_end_contract</th>\n",
       "      <th>lifetime</th>\n",
       "      <th>avg_class_frequency_total</th>\n",
       "      <th>avg_class_frequency_current_month</th>\n",
       "      <th>churn</th>\n",
       "    </tr>\n",
       "  </thead>\n",
       "  <tbody>\n",
       "    <tr>\n",
       "      <th>count</th>\n",
       "      <td>1061.000000</td>\n",
       "      <td>1061.000000</td>\n",
       "      <td>1061.000000</td>\n",
       "      <td>1061.000000</td>\n",
       "      <td>1061.000000</td>\n",
       "      <td>1061.000000</td>\n",
       "      <td>1061.000000</td>\n",
       "      <td>1061.000000</td>\n",
       "      <td>1061.000000</td>\n",
       "      <td>1061.000000</td>\n",
       "      <td>1061.000000</td>\n",
       "      <td>1061.000000</td>\n",
       "      <td>1061.000000</td>\n",
       "      <td>1061.0</td>\n",
       "    </tr>\n",
       "    <tr>\n",
       "      <th>mean</th>\n",
       "      <td>0.510839</td>\n",
       "      <td>0.768143</td>\n",
       "      <td>0.355325</td>\n",
       "      <td>0.183789</td>\n",
       "      <td>0.902922</td>\n",
       "      <td>1.728558</td>\n",
       "      <td>0.268615</td>\n",
       "      <td>26.989632</td>\n",
       "      <td>115.082899</td>\n",
       "      <td>1.662582</td>\n",
       "      <td>0.990575</td>\n",
       "      <td>1.474995</td>\n",
       "      <td>1.044546</td>\n",
       "      <td>1.0</td>\n",
       "    </tr>\n",
       "    <tr>\n",
       "      <th>std</th>\n",
       "      <td>0.500118</td>\n",
       "      <td>0.422217</td>\n",
       "      <td>0.478837</td>\n",
       "      <td>0.387495</td>\n",
       "      <td>0.296204</td>\n",
       "      <td>2.132371</td>\n",
       "      <td>0.443448</td>\n",
       "      <td>2.895163</td>\n",
       "      <td>77.696419</td>\n",
       "      <td>1.964593</td>\n",
       "      <td>1.110799</td>\n",
       "      <td>0.694705</td>\n",
       "      <td>0.770237</td>\n",
       "      <td>0.0</td>\n",
       "    </tr>\n",
       "    <tr>\n",
       "      <th>min</th>\n",
       "      <td>0.000000</td>\n",
       "      <td>0.000000</td>\n",
       "      <td>0.000000</td>\n",
       "      <td>0.000000</td>\n",
       "      <td>0.000000</td>\n",
       "      <td>1.000000</td>\n",
       "      <td>0.000000</td>\n",
       "      <td>18.000000</td>\n",
       "      <td>0.148205</td>\n",
       "      <td>1.000000</td>\n",
       "      <td>0.000000</td>\n",
       "      <td>0.000000</td>\n",
       "      <td>0.000000</td>\n",
       "      <td>1.0</td>\n",
       "    </tr>\n",
       "    <tr>\n",
       "      <th>25%</th>\n",
       "      <td>0.000000</td>\n",
       "      <td>1.000000</td>\n",
       "      <td>0.000000</td>\n",
       "      <td>0.000000</td>\n",
       "      <td>1.000000</td>\n",
       "      <td>1.000000</td>\n",
       "      <td>0.000000</td>\n",
       "      <td>25.000000</td>\n",
       "      <td>50.629127</td>\n",
       "      <td>1.000000</td>\n",
       "      <td>0.000000</td>\n",
       "      <td>1.010771</td>\n",
       "      <td>0.421337</td>\n",
       "      <td>1.0</td>\n",
       "    </tr>\n",
       "    <tr>\n",
       "      <th>50%</th>\n",
       "      <td>1.000000</td>\n",
       "      <td>1.000000</td>\n",
       "      <td>0.000000</td>\n",
       "      <td>0.000000</td>\n",
       "      <td>1.000000</td>\n",
       "      <td>1.000000</td>\n",
       "      <td>0.000000</td>\n",
       "      <td>27.000000</td>\n",
       "      <td>103.814686</td>\n",
       "      <td>1.000000</td>\n",
       "      <td>1.000000</td>\n",
       "      <td>1.491187</td>\n",
       "      <td>0.979445</td>\n",
       "      <td>1.0</td>\n",
       "    </tr>\n",
       "    <tr>\n",
       "      <th>75%</th>\n",
       "      <td>1.000000</td>\n",
       "      <td>1.000000</td>\n",
       "      <td>1.000000</td>\n",
       "      <td>0.000000</td>\n",
       "      <td>1.000000</td>\n",
       "      <td>1.000000</td>\n",
       "      <td>1.000000</td>\n",
       "      <td>29.000000</td>\n",
       "      <td>165.616858</td>\n",
       "      <td>1.000000</td>\n",
       "      <td>1.000000</td>\n",
       "      <td>1.956438</td>\n",
       "      <td>1.588576</td>\n",
       "      <td>1.0</td>\n",
       "    </tr>\n",
       "    <tr>\n",
       "      <th>max</th>\n",
       "      <td>1.000000</td>\n",
       "      <td>1.000000</td>\n",
       "      <td>1.000000</td>\n",
       "      <td>1.000000</td>\n",
       "      <td>1.000000</td>\n",
       "      <td>12.000000</td>\n",
       "      <td>1.000000</td>\n",
       "      <td>38.000000</td>\n",
       "      <td>425.535220</td>\n",
       "      <td>12.000000</td>\n",
       "      <td>9.000000</td>\n",
       "      <td>3.478646</td>\n",
       "      <td>3.540271</td>\n",
       "      <td>1.0</td>\n",
       "    </tr>\n",
       "  </tbody>\n",
       "</table>\n",
       "</div>"
      ],
      "text/plain": [
       "            gender  near_location      partner  promo_friends        phone  \\\n",
       "count  1061.000000    1061.000000  1061.000000    1061.000000  1061.000000   \n",
       "mean      0.510839       0.768143     0.355325       0.183789     0.902922   \n",
       "std       0.500118       0.422217     0.478837       0.387495     0.296204   \n",
       "min       0.000000       0.000000     0.000000       0.000000     0.000000   \n",
       "25%       0.000000       1.000000     0.000000       0.000000     1.000000   \n",
       "50%       1.000000       1.000000     0.000000       0.000000     1.000000   \n",
       "75%       1.000000       1.000000     1.000000       0.000000     1.000000   \n",
       "max       1.000000       1.000000     1.000000       1.000000     1.000000   \n",
       "\n",
       "       contract_period  group_visits          age  \\\n",
       "count      1061.000000   1061.000000  1061.000000   \n",
       "mean          1.728558      0.268615    26.989632   \n",
       "std           2.132371      0.443448     2.895163   \n",
       "min           1.000000      0.000000    18.000000   \n",
       "25%           1.000000      0.000000    25.000000   \n",
       "50%           1.000000      0.000000    27.000000   \n",
       "75%           1.000000      1.000000    29.000000   \n",
       "max          12.000000      1.000000    38.000000   \n",
       "\n",
       "       avg_additional_charges_total  month_to_end_contract     lifetime  \\\n",
       "count                   1061.000000            1061.000000  1061.000000   \n",
       "mean                     115.082899               1.662582     0.990575   \n",
       "std                       77.696419               1.964593     1.110799   \n",
       "min                        0.148205               1.000000     0.000000   \n",
       "25%                       50.629127               1.000000     0.000000   \n",
       "50%                      103.814686               1.000000     1.000000   \n",
       "75%                      165.616858               1.000000     1.000000   \n",
       "max                      425.535220              12.000000     9.000000   \n",
       "\n",
       "       avg_class_frequency_total  avg_class_frequency_current_month   churn  \n",
       "count                1061.000000                        1061.000000  1061.0  \n",
       "mean                    1.474995                           1.044546     1.0  \n",
       "std                     0.694705                           0.770237     0.0  \n",
       "min                     0.000000                           0.000000     1.0  \n",
       "25%                     1.010771                           0.421337     1.0  \n",
       "50%                     1.491187                           0.979445     1.0  \n",
       "75%                     1.956438                           1.588576     1.0  \n",
       "max                     3.478646                           3.540271     1.0  "
      ]
     },
     "metadata": {},
     "output_type": "display_data"
    },
    {
     "name": "stdout",
     "output_type": "stream",
     "text": [
      "----------------оставшиеся клиенты----------------\n"
     ]
    },
    {
     "data": {
      "text/html": [
       "<div>\n",
       "<style scoped>\n",
       "    .dataframe tbody tr th:only-of-type {\n",
       "        vertical-align: middle;\n",
       "    }\n",
       "\n",
       "    .dataframe tbody tr th {\n",
       "        vertical-align: top;\n",
       "    }\n",
       "\n",
       "    .dataframe thead th {\n",
       "        text-align: right;\n",
       "    }\n",
       "</style>\n",
       "<table border=\"1\" class=\"dataframe\">\n",
       "  <thead>\n",
       "    <tr style=\"text-align: right;\">\n",
       "      <th></th>\n",
       "      <th>gender</th>\n",
       "      <th>near_location</th>\n",
       "      <th>partner</th>\n",
       "      <th>promo_friends</th>\n",
       "      <th>phone</th>\n",
       "      <th>contract_period</th>\n",
       "      <th>group_visits</th>\n",
       "      <th>age</th>\n",
       "      <th>avg_additional_charges_total</th>\n",
       "      <th>month_to_end_contract</th>\n",
       "      <th>lifetime</th>\n",
       "      <th>avg_class_frequency_total</th>\n",
       "      <th>avg_class_frequency_current_month</th>\n",
       "      <th>churn</th>\n",
       "    </tr>\n",
       "  </thead>\n",
       "  <tbody>\n",
       "    <tr>\n",
       "      <th>count</th>\n",
       "      <td>2939.000000</td>\n",
       "      <td>2939.000000</td>\n",
       "      <td>2939.000000</td>\n",
       "      <td>2939.000000</td>\n",
       "      <td>2939.000000</td>\n",
       "      <td>2939.000000</td>\n",
       "      <td>2939.000000</td>\n",
       "      <td>2939.000000</td>\n",
       "      <td>2939.000000</td>\n",
       "      <td>2939.000000</td>\n",
       "      <td>2939.000000</td>\n",
       "      <td>2939.000000</td>\n",
       "      <td>2939.000000</td>\n",
       "      <td>2939.0</td>\n",
       "    </tr>\n",
       "    <tr>\n",
       "      <th>mean</th>\n",
       "      <td>0.510037</td>\n",
       "      <td>0.873086</td>\n",
       "      <td>0.534195</td>\n",
       "      <td>0.353522</td>\n",
       "      <td>0.903709</td>\n",
       "      <td>5.747193</td>\n",
       "      <td>0.464103</td>\n",
       "      <td>29.976523</td>\n",
       "      <td>158.445715</td>\n",
       "      <td>5.283089</td>\n",
       "      <td>4.711807</td>\n",
       "      <td>2.024876</td>\n",
       "      <td>2.027882</td>\n",
       "      <td>0.0</td>\n",
       "    </tr>\n",
       "    <tr>\n",
       "      <th>std</th>\n",
       "      <td>0.499984</td>\n",
       "      <td>0.332933</td>\n",
       "      <td>0.498914</td>\n",
       "      <td>0.478144</td>\n",
       "      <td>0.295040</td>\n",
       "      <td>4.716942</td>\n",
       "      <td>0.498795</td>\n",
       "      <td>3.009933</td>\n",
       "      <td>99.801599</td>\n",
       "      <td>4.363522</td>\n",
       "      <td>3.874780</td>\n",
       "      <td>1.016006</td>\n",
       "      <td>1.018994</td>\n",
       "      <td>0.0</td>\n",
       "    </tr>\n",
       "    <tr>\n",
       "      <th>min</th>\n",
       "      <td>0.000000</td>\n",
       "      <td>0.000000</td>\n",
       "      <td>0.000000</td>\n",
       "      <td>0.000000</td>\n",
       "      <td>0.000000</td>\n",
       "      <td>1.000000</td>\n",
       "      <td>0.000000</td>\n",
       "      <td>19.000000</td>\n",
       "      <td>0.171862</td>\n",
       "      <td>1.000000</td>\n",
       "      <td>0.000000</td>\n",
       "      <td>0.000000</td>\n",
       "      <td>0.000000</td>\n",
       "      <td>0.0</td>\n",
       "    </tr>\n",
       "    <tr>\n",
       "      <th>25%</th>\n",
       "      <td>0.000000</td>\n",
       "      <td>1.000000</td>\n",
       "      <td>0.000000</td>\n",
       "      <td>0.000000</td>\n",
       "      <td>1.000000</td>\n",
       "      <td>1.000000</td>\n",
       "      <td>0.000000</td>\n",
       "      <td>28.000000</td>\n",
       "      <td>76.920993</td>\n",
       "      <td>1.000000</td>\n",
       "      <td>2.000000</td>\n",
       "      <td>1.283137</td>\n",
       "      <td>1.297021</td>\n",
       "      <td>0.0</td>\n",
       "    </tr>\n",
       "    <tr>\n",
       "      <th>50%</th>\n",
       "      <td>1.000000</td>\n",
       "      <td>1.000000</td>\n",
       "      <td>1.000000</td>\n",
       "      <td>0.000000</td>\n",
       "      <td>1.000000</td>\n",
       "      <td>6.000000</td>\n",
       "      <td>0.000000</td>\n",
       "      <td>30.000000</td>\n",
       "      <td>149.881171</td>\n",
       "      <td>6.000000</td>\n",
       "      <td>4.000000</td>\n",
       "      <td>2.043252</td>\n",
       "      <td>2.046697</td>\n",
       "      <td>0.0</td>\n",
       "    </tr>\n",
       "    <tr>\n",
       "      <th>75%</th>\n",
       "      <td>1.000000</td>\n",
       "      <td>1.000000</td>\n",
       "      <td>1.000000</td>\n",
       "      <td>1.000000</td>\n",
       "      <td>1.000000</td>\n",
       "      <td>12.000000</td>\n",
       "      <td>1.000000</td>\n",
       "      <td>32.000000</td>\n",
       "      <td>224.448274</td>\n",
       "      <td>10.000000</td>\n",
       "      <td>6.000000</td>\n",
       "      <td>2.732944</td>\n",
       "      <td>2.740648</td>\n",
       "      <td>0.0</td>\n",
       "    </tr>\n",
       "    <tr>\n",
       "      <th>max</th>\n",
       "      <td>1.000000</td>\n",
       "      <td>1.000000</td>\n",
       "      <td>1.000000</td>\n",
       "      <td>1.000000</td>\n",
       "      <td>1.000000</td>\n",
       "      <td>12.000000</td>\n",
       "      <td>1.000000</td>\n",
       "      <td>41.000000</td>\n",
       "      <td>552.590740</td>\n",
       "      <td>12.000000</td>\n",
       "      <td>31.000000</td>\n",
       "      <td>6.023668</td>\n",
       "      <td>6.146783</td>\n",
       "      <td>0.0</td>\n",
       "    </tr>\n",
       "  </tbody>\n",
       "</table>\n",
       "</div>"
      ],
      "text/plain": [
       "            gender  near_location      partner  promo_friends        phone  \\\n",
       "count  2939.000000    2939.000000  2939.000000    2939.000000  2939.000000   \n",
       "mean      0.510037       0.873086     0.534195       0.353522     0.903709   \n",
       "std       0.499984       0.332933     0.498914       0.478144     0.295040   \n",
       "min       0.000000       0.000000     0.000000       0.000000     0.000000   \n",
       "25%       0.000000       1.000000     0.000000       0.000000     1.000000   \n",
       "50%       1.000000       1.000000     1.000000       0.000000     1.000000   \n",
       "75%       1.000000       1.000000     1.000000       1.000000     1.000000   \n",
       "max       1.000000       1.000000     1.000000       1.000000     1.000000   \n",
       "\n",
       "       contract_period  group_visits          age  \\\n",
       "count      2939.000000   2939.000000  2939.000000   \n",
       "mean          5.747193      0.464103    29.976523   \n",
       "std           4.716942      0.498795     3.009933   \n",
       "min           1.000000      0.000000    19.000000   \n",
       "25%           1.000000      0.000000    28.000000   \n",
       "50%           6.000000      0.000000    30.000000   \n",
       "75%          12.000000      1.000000    32.000000   \n",
       "max          12.000000      1.000000    41.000000   \n",
       "\n",
       "       avg_additional_charges_total  month_to_end_contract     lifetime  \\\n",
       "count                   2939.000000            2939.000000  2939.000000   \n",
       "mean                     158.445715               5.283089     4.711807   \n",
       "std                       99.801599               4.363522     3.874780   \n",
       "min                        0.171862               1.000000     0.000000   \n",
       "25%                       76.920993               1.000000     2.000000   \n",
       "50%                      149.881171               6.000000     4.000000   \n",
       "75%                      224.448274              10.000000     6.000000   \n",
       "max                      552.590740              12.000000    31.000000   \n",
       "\n",
       "       avg_class_frequency_total  avg_class_frequency_current_month   churn  \n",
       "count                2939.000000                        2939.000000  2939.0  \n",
       "mean                    2.024876                           2.027882     0.0  \n",
       "std                     1.016006                           1.018994     0.0  \n",
       "min                     0.000000                           0.000000     0.0  \n",
       "25%                     1.283137                           1.297021     0.0  \n",
       "50%                     2.043252                           2.046697     0.0  \n",
       "75%                     2.732944                           2.740648     0.0  \n",
       "max                     6.023668                           6.146783     0.0  "
      ]
     },
     "metadata": {},
     "output_type": "display_data"
    }
   ],
   "source": [
    "df.columns=df.columns.str.lower()\n",
    "churn_yes=df[df['churn']==1]\n",
    "churn_no=df[df['churn']==0]\n",
    "\n",
    "print('----------------оттекшие клиенты-----------------')\n",
    "display(churn_yes.describe())\n",
    "print('----------------оставшиеся клиенты----------------')\n",
    "display(churn_no.describe())"
   ]
  },
  {
   "cell_type": "markdown",
   "metadata": {},
   "source": [
    "чаще оттекают клиенты:\n",
    "- молодые (в среднем на 3 года младше оставшихся),\n",
    "- реже участвующие в партнерской программе или программе \"приведи друга\"\n",
    "- большинство из них (более 75% имеют абонемент на месяц)\n",
    "- с среднем на 20% реже посещают групповые занятия\n",
    "- лайфтайм 75% из них не превышает 1 месяц, но если клиент проходил в зал более 9 месяцев, то вероятность что он уйдет снижается,\n",
    "- посещают зал в среднем 1,5 раза в неделю, в то время как оставшиеся клиенты в среднем 2 и более раза. и в последнем месяце оттекшие клиенты начинают посещать в среднем 1 раз в неделю.\n",
    "\n",
    "посмотрим на распределения признаков для оттекших и оставшихся клиентов."
   ]
  },
  {
   "cell_type": "code",
   "execution_count": 4,
   "metadata": {},
   "outputs": [],
   "source": [
    "# функция считающая количество корзин\n",
    "def my_bins(df,value):\n",
    "    if df[value].max() > 2:\n",
    "        return 20\n",
    "    elif df[value].max() == 2:\n",
    "        return 2\n",
    "    elif df[value].max() > 20:\n",
    "        return  50\n",
    "    elif df[value].max() > 100:\n",
    "        return  100\n",
    "    else: return 10\n",
    "    \n",
    "def bar(column):\n",
    "    fig, axes=plt.subplots(figsize=(14, 4), nrows=1, ncols=2)\n",
    "    axes[0].hist(churn_yes[column], bins=my_bins(churn_yes, column))\n",
    "    axes[0].set_xlabel(column)\n",
    "    axes[0].set_ylabel('частота')\n",
    "    axes[0].set_title(f'Распределение {column} для оттекших клиентов')\n",
    "    axes[1].hist(churn_no[column], bins=my_bins(churn_no, column))\n",
    "    axes[1].set_xlabel(column)\n",
    "    axes[1].set_ylabel('частота')\n",
    "    axes[1].set_title(f'Распределение {column} для оставшихся клиентов')\n",
    "    plt.subplots_adjust(wspace=0.3)\n",
    "    plt.show()"
   ]
  },
  {
   "cell_type": "code",
   "execution_count": 5,
   "metadata": {
    "scrolled": true
   },
   "outputs": [
    {
     "data": {
      "image/png": "[encoded data removed]",
      "text/plain": [
       "<Figure size 1008x288 with 2 Axes>"
      ]
     },
     "metadata": {
      "needs_background": "light"
     },
     "output_type": "display_data"
    },
    {
     "data": {
      "image/png": "[encoded data removed]",
      "text/plain": [
       "<Figure size 1008x288 with 2 Axes>"
      ]
     },
     "metadata": {
      "needs_background": "light"
     },
     "output_type": "display_data"
    },
    {
     "data": {
      "image/png": "[encoded data removed]",
      "text/plain": [
       "<Figure size 1008x288 with 2 Axes>"
      ]
     },
     "metadata": {
      "needs_background": "light"
     },
     "output_type": "display_data"
    },
    {
     "data": {
      "image/png": "[encoded data removed]",
      "text/plain": [
       "<Figure size 1008x288 with 2 Axes>"
      ]
     },
     "metadata": {
      "needs_background": "light"
     },
     "output_type": "display_data"
    },
    {
     "data": {
      "image/png": "[encoded data removed]",
      "text/plain": [
       "<Figure size 1008x288 with 2 Axes>"
      ]
     },
     "metadata": {
      "needs_background": "light"
     },
     "output_type": "display_data"
    },
    {
     "data": {
      "image/png": "[encoded data removed]",
      "text/plain": [
       "<Figure size 1008x288 with 2 Axes>"
      ]
     },
     "metadata": {
      "needs_background": "light"
     },
     "output_type": "display_data"
    },
    {
     "data": {
      "image/png": "[encoded data removed]",
      "text/plain": [
       "<Figure size 1008x288 with 2 Axes>"
      ]
     },
     "metadata": {
      "needs_background": "light"
     },
     "output_type": "display_data"
    },
    {
     "data": {
      "image/png": "[encoded data removed]",
      "text/plain": [
       "<Figure size 1008x288 with 2 Axes>"
      ]
     },
     "metadata": {
      "needs_background": "light"
     },
     "output_type": "display_data"
    },
    {
     "data": {
      "image/png": "[encoded data removed]",
      "text/plain": [
       "<Figure size 1008x288 with 2 Axes>"
      ]
     },
     "metadata": {
      "needs_background": "light"
     },
     "output_type": "display_data"
    },
    {
     "data": {
      "image/png": "[encoded data removed]",
      "text/plain": [
       "<Figure size 1008x288 with 2 Axes>"
      ]
     },
     "metadata": {
      "needs_background": "light"
     },
     "output_type": "display_data"
    },
    {
     "data": {
      "image/png": "[encoded data removed]",
      "text/plain": [
       "<Figure size 1008x288 with 2 Axes>"
      ]
     },
     "metadata": {
      "needs_background": "light"
     },
     "output_type": "display_data"
    },
    {
     "data": {
      "image/png": "[encoded data removed]",
      "text/plain": [
       "<Figure size 1008x288 with 2 Axes>"
      ]
     },
     "metadata": {
      "needs_background": "light"
     },
     "output_type": "display_data"
    },
    {
     "data": {
      "image/png": "[encoded data removed]",
      "text/plain": [
       "<Figure size 1008x288 with 2 Axes>"
      ]
     },
     "metadata": {
      "needs_background": "light"
     },
     "output_type": "display_data"
    },
    {
     "data": {
      "image/png": "[encoded data removed]",
      "text/plain": [
       "<Figure size 1008x288 with 2 Axes>"
      ]
     },
     "metadata": {
      "needs_background": "light"
     },
     "output_type": "display_data"
    }
   ],
   "source": [
    "for column in churn_yes.columns:\n",
    "    bar(column)"
   ]
  },
  {
   "cell_type": "markdown",
   "metadata": {},
   "source": [
    "для большинства признаков распределения близки, только средняя частота посещений в неделю за предыдущий месяц отличаются, за счет большого числа 0 у оттекших клиентов.\n",
    "\n",
    "составим матрицу корреляций"
   ]
  },
  {
   "cell_type": "code",
   "execution_count": 6,
   "metadata": {
    "scrolled": true
   },
   "outputs": [
    {
     "data": {
      "text/html": [
       "<style  type=\"text/css\" >\n",
       "#T_4edde_row0_col0,#T_4edde_row1_col1,#T_4edde_row2_col2,#T_4edde_row3_col3,#T_4edde_row4_col4,#T_4edde_row5_col5,#T_4edde_row6_col6,#T_4edde_row7_col7,#T_4edde_row8_col8,#T_4edde_row9_col9,#T_4edde_row10_col10,#T_4edde_row11_col11,#T_4edde_row12_col12,#T_4edde_row13_col13{\n",
       "            background-color:  #08306b;\n",
       "            color:  #f1f1f1;\n",
       "        }#T_4edde_row0_col1{\n",
       "            background-color:  #dfecf7;\n",
       "            color:  #000000;\n",
       "        }#T_4edde_row0_col2{\n",
       "            background-color:  #deebf7;\n",
       "            color:  #000000;\n",
       "        }#T_4edde_row0_col3{\n",
       "            background-color:  #dceaf6;\n",
       "            color:  #000000;\n",
       "        }#T_4edde_row0_col4,#T_4edde_row5_col0,#T_4edde_row5_col4,#T_4edde_row6_col4,#T_4edde_row9_col0,#T_4edde_row13_col0{\n",
       "            background-color:  #f5fafe;\n",
       "            color:  #000000;\n",
       "        }#T_4edde_row0_col5,#T_4edde_row1_col6,#T_4edde_row4_col7{\n",
       "            background-color:  #bdd7ec;\n",
       "            color:  #000000;\n",
       "        }#T_4edde_row0_col6,#T_4edde_row7_col1,#T_4edde_row8_col13{\n",
       "            background-color:  #d6e6f4;\n",
       "            color:  #000000;\n",
       "        }#T_4edde_row0_col7,#T_4edde_row0_col12,#T_4edde_row3_col1{\n",
       "            background-color:  #b7d4ea;\n",
       "            color:  #000000;\n",
       "        }#T_4edde_row0_col8,#T_4edde_row11_col2{\n",
       "            background-color:  #d8e7f5;\n",
       "            color:  #000000;\n",
       "        }#T_4edde_row0_col9,#T_4edde_row4_col5,#T_4edde_row5_col11{\n",
       "            background-color:  #bed8ec;\n",
       "            color:  #000000;\n",
       "        }#T_4edde_row0_col10{\n",
       "            background-color:  #b2d2e8;\n",
       "            color:  #000000;\n",
       "        }#T_4edde_row0_col11,#T_4edde_row10_col6,#T_4edde_row12_col6{\n",
       "            background-color:  #cde0f1;\n",
       "            color:  #000000;\n",
       "        }#T_4edde_row0_col13{\n",
       "            background-color:  #b4d3e9;\n",
       "            color:  #000000;\n",
       "        }#T_4edde_row1_col0,#T_4edde_row12_col0,#T_4edde_row12_col13,#T_4edde_row13_col4{\n",
       "            background-color:  #f4f9fe;\n",
       "            color:  #000000;\n",
       "        }#T_4edde_row1_col2,#T_4edde_row11_col13{\n",
       "            background-color:  #ddeaf7;\n",
       "            color:  #000000;\n",
       "        }#T_4edde_row1_col3,#T_4edde_row2_col7,#T_4edde_row2_col12,#T_4edde_row3_col7{\n",
       "            background-color:  #afd1e7;\n",
       "            color:  #000000;\n",
       "        }#T_4edde_row1_col4,#T_4edde_row2_col0,#T_4edde_row4_col0,#T_4edde_row8_col0,#T_4edde_row10_col4,#T_4edde_row10_col13,#T_4edde_row13_col1,#T_4edde_row13_col2,#T_4edde_row13_col3,#T_4edde_row13_col5,#T_4edde_row13_col6,#T_4edde_row13_col7,#T_4edde_row13_col8,#T_4edde_row13_col9,#T_4edde_row13_col10,#T_4edde_row13_col11,#T_4edde_row13_col12{\n",
       "            background-color:  #f7fbff;\n",
       "            color:  #000000;\n",
       "        }#T_4edde_row1_col5{\n",
       "            background-color:  #99c7e0;\n",
       "            color:  #000000;\n",
       "        }#T_4edde_row1_col7,#T_4edde_row3_col12{\n",
       "            background-color:  #add0e6;\n",
       "            color:  #000000;\n",
       "        }#T_4edde_row1_col8,#T_4edde_row10_col3,#T_4edde_row11_col8{\n",
       "            background-color:  #d0e1f2;\n",
       "            color:  #000000;\n",
       "        }#T_4edde_row1_col9,#T_4edde_row7_col5,#T_4edde_row11_col10{\n",
       "            background-color:  #9cc9e1;\n",
       "            color:  #000000;\n",
       "        }#T_4edde_row1_col10,#T_4edde_row3_col10{\n",
       "            background-color:  #a5cde3;\n",
       "            color:  #000000;\n",
       "        }#T_4edde_row1_col11,#T_4edde_row7_col8,#T_4edde_row10_col8,#T_4edde_row12_col8{\n",
       "            background-color:  #caddf0;\n",
       "            color:  #000000;\n",
       "        }#T_4edde_row1_col12,#T_4edde_row11_col9{\n",
       "            background-color:  #aacfe5;\n",
       "            color:  #000000;\n",
       "        }#T_4edde_row1_col13,#T_4edde_row7_col6{\n",
       "            background-color:  #cddff1;\n",
       "            color:  #000000;\n",
       "        }#T_4edde_row2_col1{\n",
       "            background-color:  #e2edf8;\n",
       "            color:  #000000;\n",
       "        }#T_4edde_row2_col3{\n",
       "            background-color:  #61a7d2;\n",
       "            color:  #000000;\n",
       "        }#T_4edde_row2_col4,#T_4edde_row6_col0,#T_4edde_row8_col4{\n",
       "            background-color:  #f2f7fd;\n",
       "            color:  #000000;\n",
       "        }#T_4edde_row2_col5{\n",
       "            background-color:  #6aaed6;\n",
       "            color:  #000000;\n",
       "        }#T_4edde_row2_col6,#T_4edde_row8_col3,#T_4edde_row12_col1{\n",
       "            background-color:  #d6e5f4;\n",
       "            color:  #000000;\n",
       "        }#T_4edde_row2_col8,#T_4edde_row12_col3{\n",
       "            background-color:  #d3e3f3;\n",
       "            color:  #000000;\n",
       "        }#T_4edde_row2_col9{\n",
       "            background-color:  #6fb0d7;\n",
       "            color:  #000000;\n",
       "        }#T_4edde_row2_col10,#T_4edde_row6_col7,#T_4edde_row6_col12,#T_4edde_row8_col7,#T_4edde_row9_col3{\n",
       "            background-color:  #a8cee4;\n",
       "            color:  #000000;\n",
       "        }#T_4edde_row2_col11,#T_4edde_row3_col11{\n",
       "            background-color:  #ccdff1;\n",
       "            color:  #000000;\n",
       "        }#T_4edde_row2_col13,#T_4edde_row3_col13,#T_4edde_row6_col8{\n",
       "            background-color:  #d1e2f3;\n",
       "            color:  #000000;\n",
       "        }#T_4edde_row3_col0,#T_4edde_row7_col4,#T_4edde_row9_col4{\n",
       "            background-color:  #f6faff;\n",
       "            color:  #000000;\n",
       "        }#T_4edde_row3_col2{\n",
       "            background-color:  #63a8d3;\n",
       "            color:  #000000;\n",
       "        }#T_4edde_row3_col4,#T_4edde_row7_col13{\n",
       "            background-color:  #f3f8fe;\n",
       "            color:  #000000;\n",
       "        }#T_4edde_row3_col5{\n",
       "            background-color:  #7db8da;\n",
       "            color:  #000000;\n",
       "        }#T_4edde_row3_col6,#T_4edde_row6_col1{\n",
       "            background-color:  #c6dbef;\n",
       "            color:  #000000;\n",
       "        }#T_4edde_row3_col8,#T_4edde_row11_col6{\n",
       "            background-color:  #d0e2f2;\n",
       "            color:  #000000;\n",
       "        }#T_4edde_row3_col9{\n",
       "            background-color:  #7fb9da;\n",
       "            color:  #000000;\n",
       "        }#T_4edde_row4_col1{\n",
       "            background-color:  #e3eef9;\n",
       "            color:  #000000;\n",
       "        }#T_4edde_row4_col2{\n",
       "            background-color:  #dae8f6;\n",
       "            color:  #000000;\n",
       "        }#T_4edde_row4_col3{\n",
       "            background-color:  #dbe9f6;\n",
       "            color:  #000000;\n",
       "        }#T_4edde_row4_col6{\n",
       "            background-color:  #dce9f6;\n",
       "            color:  #000000;\n",
       "        }#T_4edde_row4_col8,#T_4edde_row12_col2{\n",
       "            background-color:  #d5e5f4;\n",
       "            color:  #000000;\n",
       "        }#T_4edde_row4_col9,#T_4edde_row9_col11{\n",
       "            background-color:  #c1d9ed;\n",
       "            color:  #000000;\n",
       "        }#T_4edde_row4_col10,#T_4edde_row10_col11{\n",
       "            background-color:  #b9d6ea;\n",
       "            color:  #000000;\n",
       "        }#T_4edde_row4_col11{\n",
       "            background-color:  #cfe1f2;\n",
       "            color:  #000000;\n",
       "        }#T_4edde_row4_col12,#T_4edde_row4_col13{\n",
       "            background-color:  #b5d4e9;\n",
       "            color:  #000000;\n",
       "        }#T_4edde_row5_col1{\n",
       "            background-color:  #c7dbef;\n",
       "            color:  #000000;\n",
       "        }#T_4edde_row5_col2{\n",
       "            background-color:  #94c4df;\n",
       "            color:  #000000;\n",
       "        }#T_4edde_row5_col3,#T_4edde_row8_col12,#T_4edde_row11_col5{\n",
       "            background-color:  #a6cee4;\n",
       "            color:  #000000;\n",
       "        }#T_4edde_row5_col6,#T_4edde_row7_col11{\n",
       "            background-color:  #b8d5ea;\n",
       "            color:  #000000;\n",
       "        }#T_4edde_row5_col7,#T_4edde_row9_col7,#T_4edde_row12_col9{\n",
       "            background-color:  #9ac8e0;\n",
       "            color:  #000000;\n",
       "        }#T_4edde_row5_col8,#T_4edde_row9_col8{\n",
       "            background-color:  #c3daee;\n",
       "            color:  #000000;\n",
       "        }#T_4edde_row5_col9,#T_4edde_row9_col5{\n",
       "            background-color:  #083471;\n",
       "            color:  #f1f1f1;\n",
       "        }#T_4edde_row5_col10{\n",
       "            background-color:  #8abfdd;\n",
       "            color:  #000000;\n",
       "        }#T_4edde_row5_col12,#T_4edde_row6_col5,#T_4edde_row10_col5,#T_4edde_row10_col7{\n",
       "            background-color:  #92c4de;\n",
       "            color:  #000000;\n",
       "        }#T_4edde_row5_col13,#T_4edde_row12_col4{\n",
       "            background-color:  #f1f7fd;\n",
       "            color:  #000000;\n",
       "        }#T_4edde_row6_col2,#T_4edde_row8_col2{\n",
       "            background-color:  #d9e7f5;\n",
       "            color:  #000000;\n",
       "        }#T_4edde_row6_col3,#T_4edde_row6_col11{\n",
       "            background-color:  #c7dcef;\n",
       "            color:  #000000;\n",
       "        }#T_4edde_row6_col9,#T_4edde_row9_col12,#T_4edde_row12_col5{\n",
       "            background-color:  #95c5df;\n",
       "            color:  #000000;\n",
       "        }#T_4edde_row6_col10,#T_4edde_row8_col9{\n",
       "            background-color:  #a4cce3;\n",
       "            color:  #000000;\n",
       "        }#T_4edde_row6_col13,#T_4edde_row7_col3{\n",
       "            background-color:  #d3e4f3;\n",
       "            color:  #000000;\n",
       "        }#T_4edde_row7_col0,#T_4edde_row10_col0,#T_4edde_row11_col0,#T_4edde_row11_col4{\n",
       "            background-color:  #f2f8fd;\n",
       "            color:  #000000;\n",
       "        }#T_4edde_row7_col2,#T_4edde_row8_col6,#T_4edde_row10_col1{\n",
       "            background-color:  #d4e4f4;\n",
       "            color:  #000000;\n",
       "        }#T_4edde_row7_col9,#T_4edde_row11_col7{\n",
       "            background-color:  #9fcae1;\n",
       "            color:  #000000;\n",
       "        }#T_4edde_row7_col10,#T_4edde_row7_col12,#T_4edde_row10_col12,#T_4edde_row12_col7{\n",
       "            background-color:  #8cc0dd;\n",
       "            color:  #000000;\n",
       "        }#T_4edde_row8_col1,#T_4edde_row11_col1{\n",
       "            background-color:  #d9e8f5;\n",
       "            color:  #000000;\n",
       "        }#T_4edde_row8_col5,#T_4edde_row8_col10{\n",
       "            background-color:  #a3cce3;\n",
       "            color:  #000000;\n",
       "        }#T_4edde_row8_col11{\n",
       "            background-color:  #c9ddf0;\n",
       "            color:  #000000;\n",
       "        }#T_4edde_row9_col1{\n",
       "            background-color:  #c8dcf0;\n",
       "            color:  #000000;\n",
       "        }#T_4edde_row9_col2,#T_4edde_row10_col9{\n",
       "            background-color:  #97c6df;\n",
       "            color:  #000000;\n",
       "        }#T_4edde_row9_col6{\n",
       "            background-color:  #bad6eb;\n",
       "            color:  #000000;\n",
       "        }#T_4edde_row9_col10{\n",
       "            background-color:  #8dc1dd;\n",
       "            color:  #000000;\n",
       "        }#T_4edde_row9_col13{\n",
       "            background-color:  #eff6fc;\n",
       "            color:  #000000;\n",
       "        }#T_4edde_row10_col2{\n",
       "            background-color:  #d2e3f3;\n",
       "            color:  #000000;\n",
       "        }#T_4edde_row11_col3{\n",
       "            background-color:  #d7e6f5;\n",
       "            color:  #000000;\n",
       "        }#T_4edde_row11_col12{\n",
       "            background-color:  #083877;\n",
       "            color:  #f1f1f1;\n",
       "        }#T_4edde_row12_col10{\n",
       "            background-color:  #87bddc;\n",
       "            color:  #000000;\n",
       "        }#T_4edde_row12_col11{\n",
       "            background-color:  #083979;\n",
       "            color:  #f1f1f1;\n",
       "        }</style><table id=\"T_4edde_\" ><thead>    <tr>        <th class=\"blank level0\" ></th>        <th class=\"col_heading level0 col0\" >gender</th>        <th class=\"col_heading level0 col1\" >near_location</th>        <th class=\"col_heading level0 col2\" >partner</th>        <th class=\"col_heading level0 col3\" >promo_friends</th>        <th class=\"col_heading level0 col4\" >phone</th>        <th class=\"col_heading level0 col5\" >contract_period</th>        <th class=\"col_heading level0 col6\" >group_visits</th>        <th class=\"col_heading level0 col7\" >age</th>        <th class=\"col_heading level0 col8\" >avg_additional_charges_total</th>        <th class=\"col_heading level0 col9\" >month_to_end_contract</th>        <th class=\"col_heading level0 col10\" >lifetime</th>        <th class=\"col_heading level0 col11\" >avg_class_frequency_total</th>        <th class=\"col_heading level0 col12\" >avg_class_frequency_current_month</th>        <th class=\"col_heading level0 col13\" >churn</th>    </tr></thead><tbody>\n",
       "                <tr>\n",
       "                        <th id=\"T_4edde_level0_row0\" class=\"row_heading level0 row0\" >gender</th>\n",
       "                        <td id=\"T_4edde_row0_col0\" class=\"data row0 col0\" >1.000000</td>\n",
       "                        <td id=\"T_4edde_row0_col1\" class=\"data row0 col1\" >0.006699</td>\n",
       "                        <td id=\"T_4edde_row0_col2\" class=\"data row0 col2\" >-0.010463</td>\n",
       "                        <td id=\"T_4edde_row0_col3\" class=\"data row0 col3\" >-0.005033</td>\n",
       "                        <td id=\"T_4edde_row0_col4\" class=\"data row0 col4\" >-0.008542</td>\n",
       "                        <td id=\"T_4edde_row0_col5\" class=\"data row0 col5\" >0.000502</td>\n",
       "                        <td id=\"T_4edde_row0_col6\" class=\"data row0 col6\" >0.017879</td>\n",
       "                        <td id=\"T_4edde_row0_col7\" class=\"data row0 col7\" >0.013807</td>\n",
       "                        <td id=\"T_4edde_row0_col8\" class=\"data row0 col8\" >-0.009334</td>\n",
       "                        <td id=\"T_4edde_row0_col9\" class=\"data row0 col9\" >-0.001281</td>\n",
       "                        <td id=\"T_4edde_row0_col10\" class=\"data row0 col10\" >0.013579</td>\n",
       "                        <td id=\"T_4edde_row0_col11\" class=\"data row0 col11\" >0.014620</td>\n",
       "                        <td id=\"T_4edde_row0_col12\" class=\"data row0 col12\" >0.009156</td>\n",
       "                        <td id=\"T_4edde_row0_col13\" class=\"data row0 col13\" >0.000708</td>\n",
       "            </tr>\n",
       "            <tr>\n",
       "                        <th id=\"T_4edde_level0_row1\" class=\"row_heading level0 row1\" >near_location</th>\n",
       "                        <td id=\"T_4edde_row1_col0\" class=\"data row1 col0\" >0.006699</td>\n",
       "                        <td id=\"T_4edde_row1_col1\" class=\"data row1 col1\" >1.000000</td>\n",
       "                        <td id=\"T_4edde_row1_col2\" class=\"data row1 col2\" >-0.005119</td>\n",
       "                        <td id=\"T_4edde_row1_col3\" class=\"data row1 col3\" >0.210964</td>\n",
       "                        <td id=\"T_4edde_row1_col4\" class=\"data row1 col4\" >-0.015763</td>\n",
       "                        <td id=\"T_4edde_row1_col5\" class=\"data row1 col5\" >0.150233</td>\n",
       "                        <td id=\"T_4edde_row1_col6\" class=\"data row1 col6\" >0.154728</td>\n",
       "                        <td id=\"T_4edde_row1_col7\" class=\"data row1 col7\" >0.058358</td>\n",
       "                        <td id=\"T_4edde_row1_col8\" class=\"data row1 col8\" >0.040761</td>\n",
       "                        <td id=\"T_4edde_row1_col9\" class=\"data row1 col9\" >0.143961</td>\n",
       "                        <td id=\"T_4edde_row1_col10\" class=\"data row1 col10\" >0.070921</td>\n",
       "                        <td id=\"T_4edde_row1_col11\" class=\"data row1 col11\" >0.043127</td>\n",
       "                        <td id=\"T_4edde_row1_col12\" class=\"data row1 col12\" >0.062664</td>\n",
       "                        <td id=\"T_4edde_row1_col13\" class=\"data row1 col13\" >-0.128098</td>\n",
       "            </tr>\n",
       "            <tr>\n",
       "                        <th id=\"T_4edde_level0_row2\" class=\"row_heading level0 row2\" >partner</th>\n",
       "                        <td id=\"T_4edde_row2_col0\" class=\"data row2 col0\" >-0.010463</td>\n",
       "                        <td id=\"T_4edde_row2_col1\" class=\"data row2 col1\" >-0.005119</td>\n",
       "                        <td id=\"T_4edde_row2_col2\" class=\"data row2 col2\" >1.000000</td>\n",
       "                        <td id=\"T_4edde_row2_col3\" class=\"data row2 col3\" >0.451960</td>\n",
       "                        <td id=\"T_4edde_row2_col4\" class=\"data row2 col4\" >0.009970</td>\n",
       "                        <td id=\"T_4edde_row2_col5\" class=\"data row2 col5\" >0.306166</td>\n",
       "                        <td id=\"T_4edde_row2_col6\" class=\"data row2 col6\" >0.022710</td>\n",
       "                        <td id=\"T_4edde_row2_col7\" class=\"data row2 col7\" >0.047480</td>\n",
       "                        <td id=\"T_4edde_row2_col8\" class=\"data row2 col8\" >0.022941</td>\n",
       "                        <td id=\"T_4edde_row2_col9\" class=\"data row2 col9\" >0.294632</td>\n",
       "                        <td id=\"T_4edde_row2_col10\" class=\"data row2 col10\" >0.061229</td>\n",
       "                        <td id=\"T_4edde_row2_col11\" class=\"data row2 col11\" >0.024938</td>\n",
       "                        <td id=\"T_4edde_row2_col12\" class=\"data row2 col12\" >0.045561</td>\n",
       "                        <td id=\"T_4edde_row2_col13\" class=\"data row2 col13\" >-0.157986</td>\n",
       "            </tr>\n",
       "            <tr>\n",
       "                        <th id=\"T_4edde_level0_row3\" class=\"row_heading level0 row3\" >promo_friends</th>\n",
       "                        <td id=\"T_4edde_row3_col0\" class=\"data row3 col0\" >-0.005033</td>\n",
       "                        <td id=\"T_4edde_row3_col1\" class=\"data row3 col1\" >0.210964</td>\n",
       "                        <td id=\"T_4edde_row3_col2\" class=\"data row3 col2\" >0.451960</td>\n",
       "                        <td id=\"T_4edde_row3_col3\" class=\"data row3 col3\" >1.000000</td>\n",
       "                        <td id=\"T_4edde_row3_col4\" class=\"data row3 col4\" >0.001982</td>\n",
       "                        <td id=\"T_4edde_row3_col5\" class=\"data row3 col5\" >0.244552</td>\n",
       "                        <td id=\"T_4edde_row3_col6\" class=\"data row3 col6\" >0.120170</td>\n",
       "                        <td id=\"T_4edde_row3_col7\" class=\"data row3 col7\" >0.050113</td>\n",
       "                        <td id=\"T_4edde_row3_col8\" class=\"data row3 col8\" >0.036898</td>\n",
       "                        <td id=\"T_4edde_row3_col9\" class=\"data row3 col9\" >0.239553</td>\n",
       "                        <td id=\"T_4edde_row3_col10\" class=\"data row3 col10\" >0.072721</td>\n",
       "                        <td id=\"T_4edde_row3_col11\" class=\"data row3 col11\" >0.028063</td>\n",
       "                        <td id=\"T_4edde_row3_col12\" class=\"data row3 col12\" >0.053768</td>\n",
       "                        <td id=\"T_4edde_row3_col13\" class=\"data row3 col13\" >-0.162233</td>\n",
       "            </tr>\n",
       "            <tr>\n",
       "                        <th id=\"T_4edde_level0_row4\" class=\"row_heading level0 row4\" >phone</th>\n",
       "                        <td id=\"T_4edde_row4_col0\" class=\"data row4 col0\" >-0.008542</td>\n",
       "                        <td id=\"T_4edde_row4_col1\" class=\"data row4 col1\" >-0.015763</td>\n",
       "                        <td id=\"T_4edde_row4_col2\" class=\"data row4 col2\" >0.009970</td>\n",
       "                        <td id=\"T_4edde_row4_col3\" class=\"data row4 col3\" >0.001982</td>\n",
       "                        <td id=\"T_4edde_row4_col4\" class=\"data row4 col4\" >1.000000</td>\n",
       "                        <td id=\"T_4edde_row4_col5\" class=\"data row4 col5\" >-0.006893</td>\n",
       "                        <td id=\"T_4edde_row4_col6\" class=\"data row4 col6\" >-0.010099</td>\n",
       "                        <td id=\"T_4edde_row4_col7\" class=\"data row4 col7\" >-0.011403</td>\n",
       "                        <td id=\"T_4edde_row4_col8\" class=\"data row4 col8\" >0.009279</td>\n",
       "                        <td id=\"T_4edde_row4_col9\" class=\"data row4 col9\" >-0.011196</td>\n",
       "                        <td id=\"T_4edde_row4_col10\" class=\"data row4 col10\" >-0.018801</td>\n",
       "                        <td id=\"T_4edde_row4_col11\" class=\"data row4 col11\" >0.008340</td>\n",
       "                        <td id=\"T_4edde_row4_col12\" class=\"data row4 col12\" >0.013375</td>\n",
       "                        <td id=\"T_4edde_row4_col13\" class=\"data row4 col13\" >-0.001177</td>\n",
       "            </tr>\n",
       "            <tr>\n",
       "                        <th id=\"T_4edde_level0_row5\" class=\"row_heading level0 row5\" >contract_period</th>\n",
       "                        <td id=\"T_4edde_row5_col0\" class=\"data row5 col0\" >0.000502</td>\n",
       "                        <td id=\"T_4edde_row5_col1\" class=\"data row5 col1\" >0.150233</td>\n",
       "                        <td id=\"T_4edde_row5_col2\" class=\"data row5 col2\" >0.306166</td>\n",
       "                        <td id=\"T_4edde_row5_col3\" class=\"data row5 col3\" >0.244552</td>\n",
       "                        <td id=\"T_4edde_row5_col4\" class=\"data row5 col4\" >-0.006893</td>\n",
       "                        <td id=\"T_4edde_row5_col5\" class=\"data row5 col5\" >1.000000</td>\n",
       "                        <td id=\"T_4edde_row5_col6\" class=\"data row5 col6\" >0.169991</td>\n",
       "                        <td id=\"T_4edde_row5_col7\" class=\"data row5 col7\" >0.138249</td>\n",
       "                        <td id=\"T_4edde_row5_col8\" class=\"data row5 col8\" >0.111445</td>\n",
       "                        <td id=\"T_4edde_row5_col9\" class=\"data row5 col9\" >0.973064</td>\n",
       "                        <td id=\"T_4edde_row5_col10\" class=\"data row5 col10\" >0.170725</td>\n",
       "                        <td id=\"T_4edde_row5_col11\" class=\"data row5 col11\" >0.096211</td>\n",
       "                        <td id=\"T_4edde_row5_col12\" class=\"data row5 col12\" >0.159407</td>\n",
       "                        <td id=\"T_4edde_row5_col13\" class=\"data row5 col13\" >-0.389984</td>\n",
       "            </tr>\n",
       "            <tr>\n",
       "                        <th id=\"T_4edde_level0_row6\" class=\"row_heading level0 row6\" >group_visits</th>\n",
       "                        <td id=\"T_4edde_row6_col0\" class=\"data row6 col0\" >0.017879</td>\n",
       "                        <td id=\"T_4edde_row6_col1\" class=\"data row6 col1\" >0.154728</td>\n",
       "                        <td id=\"T_4edde_row6_col2\" class=\"data row6 col2\" >0.022710</td>\n",
       "                        <td id=\"T_4edde_row6_col3\" class=\"data row6 col3\" >0.120170</td>\n",
       "                        <td id=\"T_4edde_row6_col4\" class=\"data row6 col4\" >-0.010099</td>\n",
       "                        <td id=\"T_4edde_row6_col5\" class=\"data row6 col5\" >0.169991</td>\n",
       "                        <td id=\"T_4edde_row6_col6\" class=\"data row6 col6\" >1.000000</td>\n",
       "                        <td id=\"T_4edde_row6_col7\" class=\"data row6 col7\" >0.080934</td>\n",
       "                        <td id=\"T_4edde_row6_col8\" class=\"data row6 col8\" >0.032079</td>\n",
       "                        <td id=\"T_4edde_row6_col9\" class=\"data row6 col9\" >0.163703</td>\n",
       "                        <td id=\"T_4edde_row6_col10\" class=\"data row6 col10\" >0.075853</td>\n",
       "                        <td id=\"T_4edde_row6_col11\" class=\"data row6 col11\" >0.056695</td>\n",
       "                        <td id=\"T_4edde_row6_col12\" class=\"data row6 col12\" >0.075923</td>\n",
       "                        <td id=\"T_4edde_row6_col13\" class=\"data row6 col13\" >-0.175325</td>\n",
       "            </tr>\n",
       "            <tr>\n",
       "                        <th id=\"T_4edde_level0_row7\" class=\"row_heading level0 row7\" >age</th>\n",
       "                        <td id=\"T_4edde_row7_col0\" class=\"data row7 col0\" >0.013807</td>\n",
       "                        <td id=\"T_4edde_row7_col1\" class=\"data row7 col1\" >0.058358</td>\n",
       "                        <td id=\"T_4edde_row7_col2\" class=\"data row7 col2\" >0.047480</td>\n",
       "                        <td id=\"T_4edde_row7_col3\" class=\"data row7 col3\" >0.050113</td>\n",
       "                        <td id=\"T_4edde_row7_col4\" class=\"data row7 col4\" >-0.011403</td>\n",
       "                        <td id=\"T_4edde_row7_col5\" class=\"data row7 col5\" >0.138249</td>\n",
       "                        <td id=\"T_4edde_row7_col6\" class=\"data row7 col6\" >0.080934</td>\n",
       "                        <td id=\"T_4edde_row7_col7\" class=\"data row7 col7\" >1.000000</td>\n",
       "                        <td id=\"T_4edde_row7_col8\" class=\"data row7 col8\" >0.080240</td>\n",
       "                        <td id=\"T_4edde_row7_col9\" class=\"data row7 col9\" >0.134511</td>\n",
       "                        <td id=\"T_4edde_row7_col10\" class=\"data row7 col10\" >0.164693</td>\n",
       "                        <td id=\"T_4edde_row7_col11\" class=\"data row7 col11\" >0.119953</td>\n",
       "                        <td id=\"T_4edde_row7_col12\" class=\"data row7 col12\" >0.183095</td>\n",
       "                        <td id=\"T_4edde_row7_col13\" class=\"data row7 col13\" >-0.404735</td>\n",
       "            </tr>\n",
       "            <tr>\n",
       "                        <th id=\"T_4edde_level0_row8\" class=\"row_heading level0 row8\" >avg_additional_charges_total</th>\n",
       "                        <td id=\"T_4edde_row8_col0\" class=\"data row8 col0\" >-0.009334</td>\n",
       "                        <td id=\"T_4edde_row8_col1\" class=\"data row8 col1\" >0.040761</td>\n",
       "                        <td id=\"T_4edde_row8_col2\" class=\"data row8 col2\" >0.022941</td>\n",
       "                        <td id=\"T_4edde_row8_col3\" class=\"data row8 col3\" >0.036898</td>\n",
       "                        <td id=\"T_4edde_row8_col4\" class=\"data row8 col4\" >0.009279</td>\n",
       "                        <td id=\"T_4edde_row8_col5\" class=\"data row8 col5\" >0.111445</td>\n",
       "                        <td id=\"T_4edde_row8_col6\" class=\"data row8 col6\" >0.032079</td>\n",
       "                        <td id=\"T_4edde_row8_col7\" class=\"data row8 col7\" >0.080240</td>\n",
       "                        <td id=\"T_4edde_row8_col8\" class=\"data row8 col8\" >1.000000</td>\n",
       "                        <td id=\"T_4edde_row8_col9\" class=\"data row8 col9\" >0.113958</td>\n",
       "                        <td id=\"T_4edde_row8_col10\" class=\"data row8 col10\" >0.079028</td>\n",
       "                        <td id=\"T_4edde_row8_col11\" class=\"data row8 col11\" >0.044426</td>\n",
       "                        <td id=\"T_4edde_row8_col12\" class=\"data row8 col12\" >0.079570</td>\n",
       "                        <td id=\"T_4edde_row8_col13\" class=\"data row8 col13\" >-0.198697</td>\n",
       "            </tr>\n",
       "            <tr>\n",
       "                        <th id=\"T_4edde_level0_row9\" class=\"row_heading level0 row9\" >month_to_end_contract</th>\n",
       "                        <td id=\"T_4edde_row9_col0\" class=\"data row9 col0\" >-0.001281</td>\n",
       "                        <td id=\"T_4edde_row9_col1\" class=\"data row9 col1\" >0.143961</td>\n",
       "                        <td id=\"T_4edde_row9_col2\" class=\"data row9 col2\" >0.294632</td>\n",
       "                        <td id=\"T_4edde_row9_col3\" class=\"data row9 col3\" >0.239553</td>\n",
       "                        <td id=\"T_4edde_row9_col4\" class=\"data row9 col4\" >-0.011196</td>\n",
       "                        <td id=\"T_4edde_row9_col5\" class=\"data row9 col5\" >0.973064</td>\n",
       "                        <td id=\"T_4edde_row9_col6\" class=\"data row9 col6\" >0.163703</td>\n",
       "                        <td id=\"T_4edde_row9_col7\" class=\"data row9 col7\" >0.134511</td>\n",
       "                        <td id=\"T_4edde_row9_col8\" class=\"data row9 col8\" >0.113958</td>\n",
       "                        <td id=\"T_4edde_row9_col9\" class=\"data row9 col9\" >1.000000</td>\n",
       "                        <td id=\"T_4edde_row9_col10\" class=\"data row9 col10\" >0.161078</td>\n",
       "                        <td id=\"T_4edde_row9_col11\" class=\"data row9 col11\" >0.085387</td>\n",
       "                        <td id=\"T_4edde_row9_col12\" class=\"data row9 col12\" >0.147605</td>\n",
       "                        <td id=\"T_4edde_row9_col13\" class=\"data row9 col13\" >-0.381393</td>\n",
       "            </tr>\n",
       "            <tr>\n",
       "                        <th id=\"T_4edde_level0_row10\" class=\"row_heading level0 row10\" >lifetime</th>\n",
       "                        <td id=\"T_4edde_row10_col0\" class=\"data row10 col0\" >0.013579</td>\n",
       "                        <td id=\"T_4edde_row10_col1\" class=\"data row10 col1\" >0.070921</td>\n",
       "                        <td id=\"T_4edde_row10_col2\" class=\"data row10 col2\" >0.061229</td>\n",
       "                        <td id=\"T_4edde_row10_col3\" class=\"data row10 col3\" >0.072721</td>\n",
       "                        <td id=\"T_4edde_row10_col4\" class=\"data row10 col4\" >-0.018801</td>\n",
       "                        <td id=\"T_4edde_row10_col5\" class=\"data row10 col5\" >0.170725</td>\n",
       "                        <td id=\"T_4edde_row10_col6\" class=\"data row10 col6\" >0.075853</td>\n",
       "                        <td id=\"T_4edde_row10_col7\" class=\"data row10 col7\" >0.164693</td>\n",
       "                        <td id=\"T_4edde_row10_col8\" class=\"data row10 col8\" >0.079028</td>\n",
       "                        <td id=\"T_4edde_row10_col9\" class=\"data row10 col9\" >0.161078</td>\n",
       "                        <td id=\"T_4edde_row10_col10\" class=\"data row10 col10\" >1.000000</td>\n",
       "                        <td id=\"T_4edde_row10_col11\" class=\"data row10 col11\" >0.112338</td>\n",
       "                        <td id=\"T_4edde_row10_col12\" class=\"data row10 col12\" >0.181975</td>\n",
       "                        <td id=\"T_4edde_row10_col13\" class=\"data row10 col13\" >-0.438220</td>\n",
       "            </tr>\n",
       "            <tr>\n",
       "                        <th id=\"T_4edde_level0_row11\" class=\"row_heading level0 row11\" >avg_class_frequency_total</th>\n",
       "                        <td id=\"T_4edde_row11_col0\" class=\"data row11 col0\" >0.014620</td>\n",
       "                        <td id=\"T_4edde_row11_col1\" class=\"data row11 col1\" >0.043127</td>\n",
       "                        <td id=\"T_4edde_row11_col2\" class=\"data row11 col2\" >0.024938</td>\n",
       "                        <td id=\"T_4edde_row11_col3\" class=\"data row11 col3\" >0.028063</td>\n",
       "                        <td id=\"T_4edde_row11_col4\" class=\"data row11 col4\" >0.008340</td>\n",
       "                        <td id=\"T_4edde_row11_col5\" class=\"data row11 col5\" >0.096211</td>\n",
       "                        <td id=\"T_4edde_row11_col6\" class=\"data row11 col6\" >0.056695</td>\n",
       "                        <td id=\"T_4edde_row11_col7\" class=\"data row11 col7\" >0.119953</td>\n",
       "                        <td id=\"T_4edde_row11_col8\" class=\"data row11 col8\" >0.044426</td>\n",
       "                        <td id=\"T_4edde_row11_col9\" class=\"data row11 col9\" >0.085387</td>\n",
       "                        <td id=\"T_4edde_row11_col10\" class=\"data row11 col10\" >0.112338</td>\n",
       "                        <td id=\"T_4edde_row11_col11\" class=\"data row11 col11\" >1.000000</td>\n",
       "                        <td id=\"T_4edde_row11_col12\" class=\"data row11 col12\" >0.952739</td>\n",
       "                        <td id=\"T_4edde_row11_col13\" class=\"data row11 col13\" >-0.249715</td>\n",
       "            </tr>\n",
       "            <tr>\n",
       "                        <th id=\"T_4edde_level0_row12\" class=\"row_heading level0 row12\" >avg_class_frequency_current_month</th>\n",
       "                        <td id=\"T_4edde_row12_col0\" class=\"data row12 col0\" >0.009156</td>\n",
       "                        <td id=\"T_4edde_row12_col1\" class=\"data row12 col1\" >0.062664</td>\n",
       "                        <td id=\"T_4edde_row12_col2\" class=\"data row12 col2\" >0.045561</td>\n",
       "                        <td id=\"T_4edde_row12_col3\" class=\"data row12 col3\" >0.053768</td>\n",
       "                        <td id=\"T_4edde_row12_col4\" class=\"data row12 col4\" >0.013375</td>\n",
       "                        <td id=\"T_4edde_row12_col5\" class=\"data row12 col5\" >0.159407</td>\n",
       "                        <td id=\"T_4edde_row12_col6\" class=\"data row12 col6\" >0.075923</td>\n",
       "                        <td id=\"T_4edde_row12_col7\" class=\"data row12 col7\" >0.183095</td>\n",
       "                        <td id=\"T_4edde_row12_col8\" class=\"data row12 col8\" >0.079570</td>\n",
       "                        <td id=\"T_4edde_row12_col9\" class=\"data row12 col9\" >0.147605</td>\n",
       "                        <td id=\"T_4edde_row12_col10\" class=\"data row12 col10\" >0.181975</td>\n",
       "                        <td id=\"T_4edde_row12_col11\" class=\"data row12 col11\" >0.952739</td>\n",
       "                        <td id=\"T_4edde_row12_col12\" class=\"data row12 col12\" >1.000000</td>\n",
       "                        <td id=\"T_4edde_row12_col13\" class=\"data row12 col13\" >-0.412348</td>\n",
       "            </tr>\n",
       "            <tr>\n",
       "                        <th id=\"T_4edde_level0_row13\" class=\"row_heading level0 row13\" >churn</th>\n",
       "                        <td id=\"T_4edde_row13_col0\" class=\"data row13 col0\" >0.000708</td>\n",
       "                        <td id=\"T_4edde_row13_col1\" class=\"data row13 col1\" >-0.128098</td>\n",
       "                        <td id=\"T_4edde_row13_col2\" class=\"data row13 col2\" >-0.157986</td>\n",
       "                        <td id=\"T_4edde_row13_col3\" class=\"data row13 col3\" >-0.162233</td>\n",
       "                        <td id=\"T_4edde_row13_col4\" class=\"data row13 col4\" >-0.001177</td>\n",
       "                        <td id=\"T_4edde_row13_col5\" class=\"data row13 col5\" >-0.389984</td>\n",
       "                        <td id=\"T_4edde_row13_col6\" class=\"data row13 col6\" >-0.175325</td>\n",
       "                        <td id=\"T_4edde_row13_col7\" class=\"data row13 col7\" >-0.404735</td>\n",
       "                        <td id=\"T_4edde_row13_col8\" class=\"data row13 col8\" >-0.198697</td>\n",
       "                        <td id=\"T_4edde_row13_col9\" class=\"data row13 col9\" >-0.381393</td>\n",
       "                        <td id=\"T_4edde_row13_col10\" class=\"data row13 col10\" >-0.438220</td>\n",
       "                        <td id=\"T_4edde_row13_col11\" class=\"data row13 col11\" >-0.249715</td>\n",
       "                        <td id=\"T_4edde_row13_col12\" class=\"data row13 col12\" >-0.412348</td>\n",
       "                        <td id=\"T_4edde_row13_col13\" class=\"data row13 col13\" >1.000000</td>\n",
       "            </tr>\n",
       "    </tbody></table>"
      ],
      "text/plain": [
       "<pandas.io.formats.style.Styler at 0x22cda1f2af0>"
      ]
     },
     "execution_count": 6,
     "metadata": {},
     "output_type": "execute_result"
    }
   ],
   "source": [
    "df.corr().style.background_gradient('Blues')"
   ]
  },
  {
   "cell_type": "markdown",
   "metadata": {},
   "source": [
    "есть сильно коррелирующие признаки: срок до окончания текущего действующего абонемента и длительность текущего действующего абонемента, средняя частота посещений в неделю за все время с начала действия абонемента и за предыдущий месяц. \n",
    "необходимо бует оставить только по 1 признаку для регрессионной модели"
   ]
  },
  {
   "cell_type": "markdown",
   "metadata": {},
   "source": [
    "## построение модели прогнозирования оттока клиентов"
   ]
  },
  {
   "cell_type": "markdown",
   "metadata": {},
   "source": [
    "построим модель бинарной классификации"
   ]
  },
  {
   "cell_type": "code",
   "execution_count": 7,
   "metadata": {},
   "outputs": [],
   "source": [
    "#удалим по 1 из сильно коррелрующих признаков\n",
    "X=df.drop(['churn', 'month_to_end_contract', \n",
    "           'avg_class_frequency_current_month'], axis=1)\n",
    "y=df['churn']\n",
    "#сандартизируем данные\n",
    "scaler = StandardScaler() \n",
    "X_sc = scaler.fit_transform(df.drop(columns = ['churn']))\n",
    "\n",
    "#разобьем на подвыборки\n",
    "X_train, X_test, y_train, y_test = train_test_split(X_sc, y, \n",
    "                                                    test_size=0.2, \n",
    "                                                    random_state=0, \n",
    "                                                    stratify=df['churn'])\n",
    "\n",
    "#обучим модель логистической регрессией\n",
    "model =LogisticRegression(solver='liblinear')\n",
    "model.fit(X_train, y_train)\n",
    "# сделаем прогнозы\n",
    "predictions = model.predict(X_test)\n",
    "probabilities =  model.predict_proba(X_test)[:,1] "
   ]
  },
  {
   "cell_type": "code",
   "execution_count": 8,
   "metadata": {
    "scrolled": true
   },
   "outputs": [],
   "source": [
    "# обучим модель случайного леса\n",
    "rf_model =  RandomForestClassifier(n_estimators = 100, random_state=0)\n",
    "rf_model.fit(X_train, y_train)\n",
    "\n",
    "rf_predictions = rf_model.predict(X_test)\n",
    "rf_probabilities = rf_model.predict_proba(X_test)[:,1]"
   ]
  },
  {
   "cell_type": "markdown",
   "metadata": {},
   "source": [
    "сделаем формулу выводящуюю метрики"
   ]
  },
  {
   "cell_type": "code",
   "execution_count": 9,
   "metadata": {},
   "outputs": [
    {
     "name": "stdout",
     "output_type": "stream",
     "text": [
      "Метрики для модели логистической регрессии:\n",
      "\tAccuracy: 0.94\n",
      "\tPrecision: 0.90\n",
      "\tRecall: 0.85\n",
      "Метрики для модели случайного леса:\n",
      "\tAccuracy: 0.92\n",
      "\tPrecision: 0.88\n",
      "\tRecall: 0.83\n"
     ]
    }
   ],
   "source": [
    "def print_all_metrics(y_true, y_pred, y_proba, title='Метрики классификации'):\n",
    "    print(title)\n",
    "    print('\\tAccuracy: {:.2f}'.format(accuracy_score(y_true, y_pred)))\n",
    "    print('\\tPrecision: {:.2f}'.format(precision_score(y_true, y_pred)))\n",
    "    print('\\tRecall: {:.2f}'.format(recall_score(y_true, y_pred)))\n",
    "    \n",
    "print_all_metrics(y_test,\n",
    "                  predictions, \n",
    "                  probabilities,\n",
    "                  title = 'Метрики для модели логистической регрессии:')\n",
    "print_all_metrics(y_test, \n",
    "                  rf_predictions,\n",
    "                  rf_probabilities,\n",
    "                  title = 'Метрики для модели случайного леса:')"
   ]
  },
  {
   "cell_type": "markdown",
   "metadata": {},
   "source": [
    "логистическая регрессия показала себя немного лучше по всем метрикам, но Recall надо корректировать."
   ]
  },
  {
   "cell_type": "markdown",
   "metadata": {},
   "source": [
    "## кластеризация клиентов"
   ]
  },
  {
   "cell_type": "markdown",
   "metadata": {},
   "source": [
    "стандартизируем данные и построим дендрограмму"
   ]
  },
  {
   "cell_type": "code",
   "execution_count": null,
   "metadata": {
    "scrolled": false
   },
   "outputs": [],
   "source": [
    "scaler = StandardScaler() \n",
    "X_sc = scaler.fit_transform(df.drop(columns = ['churn']))\n",
    "\n",
    "#матрица расстояний\n",
    "linked = linkage(X_sc, method = 'ward') \n",
    "#дендрограмма\n",
    "plt.figure(figsize=(15, 10))  \n",
    "dendrogram(linked, orientation='top')\n",
    "plt.show() "
   ]
  },
  {
   "cell_type": "markdown",
   "metadata": {},
   "source": [
    "на основании дендрограммы можно выделить 4 кластера. но \"фиолетовый\" кластер очень большой, можно предположить, что можно его поделить на 2\n",
    "\n",
    "обучим модель кластеризации на основании алгоритма K-Mean для 5 кластеров"
   ]
  },
  {
   "cell_type": "code",
   "execution_count": null,
   "metadata": {
    "scrolled": true
   },
   "outputs": [],
   "source": [
    "km = KMeans(n_clusters = 5, random_state=0)\n",
    "labels = km.fit_predict(X_sc)\n",
    "\n",
    "# средние значения признаков по кластерам\n",
    "df['cluster_km']=labels\n",
    "df.groupby('cluster_km').mean().style.background_gradient(\"Blues\")"
   ]
  },
  {
   "cell_type": "markdown",
   "metadata": {},
   "source": [
    "выделяется кластер 4 с самыми старшими клиентами, чей лайфтайм в среднем выше, чем у остальных групп, они покупают абонементы на длительный периол, чаще остальных ходят в зал и намного реже оттекают (6,8%). они больше остальных тратят на доп услуги.\n",
    "\n",
    "есть кластер 0, \"работающих рядом\". среди них больше всех клиентов пришедших по партнерской программе и программе \"приведи друга\", в среднем они покупают абонемент на продолжительный период (11 мес) и чаще остальных ходят на групповые звнятия. много тратят на доп услуги. по ним самый низкий отток (2,8%)\n",
    "\n",
    "есть кластер 3 самых молодых клиентов, живущих рядом с залом, у них самый короткий средний лайфтайм, и они реже всех посещают групповые занятия. по ним наблюдается самый большой отток (51,4%)\n",
    "\n",
    "также много уходят из кластера живущих далеко от зала (44,3%)"
   ]
  },
  {
   "cell_type": "markdown",
   "metadata": {},
   "source": [
    "посмотрим распределения признаков по кластерам"
   ]
  },
  {
   "cell_type": "code",
   "execution_count": null,
   "metadata": {
    "scrolled": true
   },
   "outputs": [],
   "source": [
    "cols=['gender', 'near_location', 'partner', 'promo_friends', 'phone',  'group_visits', 'churn']\n",
    "for column in cols:   \n",
    "    plt.figure(figsize=(12, 5))\n",
    "    sns.countplot(x=column, data=df, hue='cluster_km', palette='coolwarm')\n",
    "    plt.legend()\n",
    "    plt.title(f'Распределение {column}  по кластерам')\n",
    "    plt.xlabel(column)\n",
    "    plt.ylabel('частота')\n",
    "    plt.show()"
   ]
  },
  {
   "cell_type": "code",
   "execution_count": null,
   "metadata": {},
   "outputs": [],
   "source": [
    "col_box=['contract_period', 'age', 'avg_additional_charges_total', 'month_to_end_contract', 'lifetime', \n",
    "         'avg_class_frequency_total', 'avg_class_frequency_current_month']\n",
    "for column in col_box:   \n",
    "    plt.figure(figsize=(12, 5))\n",
    "    sns.violinplot(y=column, data=df, x='cluster_km', palette=\"coolwarm\")\n",
    "    plt.title(f'Распределение {column}  по кластерам')\n",
    "    plt.xlabel(column)\n",
    "    plt.ylabel('частота')\n",
    "    plt.show()"
   ]
  },
  {
   "cell_type": "markdown",
   "metadata": {},
   "source": [
    "- в основном годовые абонементы покупают клиенты пришедшие по программам.\n",
    "- 3 кластер самый молодой и многочисленный, 0 и 4 немного скошены в сторону более взрослых.\n",
    "- распределение дополнительных трат схоже для всех кластеров, и коррелирует с количеством клиенов в кластре.\n",
    "- распределение жизненного цикла 3 кластера отличается от остальых, в нем очень много клиентов пришедших в текущем месяце.\n",
    "- распределения по числу посещений в в неделю за все срем сильно отличаются. в 3 кластере никто стабильно не ходит чаще 2 раз в неделю, в основном 1 раз, при этом в этой группе много тех, кто вообще не ходит. в текущем месяце ситуация схожа, только резко увеличивается число не клиентов переставших ходить. чаще всего ходит 4 кластер, в нем все ходят 2 раза в неделю и чаще.\n",
    "- программа \"приведи друга\" не очень эффективна, самые стабильные и прибыльные клиенты редко приходят по этой программе.\n",
    "\n",
    "к оттоку склонен 3 кластер (самые молодые, посещающие зал не более 3 месяцев) - 51.4%, самые надежные 0 и 4 кластеры (пришедшие по партнерской программе и самый \"взрослый\" кластер) - 2.8% и 6.8% оттока соответственно."
   ]
  },
  {
   "cell_type": "markdown",
   "metadata": {},
   "source": [
    "## выводы и рекомендации"
   ]
  },
  {
   "cell_type": "markdown",
   "metadata": {},
   "source": [
    "чаще всего оттекают клиенты:\n",
    "- молодые (в среднем на 3 года младше оставшихся),\n",
    "- реже участвующие в партнерской программе или программе \"приведи друга\"\n",
    "- большинство из них (более 75% имеют абонемент на месяц)\n",
    "- с среднем на 20% реже посещают групповые занятия\n",
    "- лайфтайм 75% из них не превышает 1 месяц, но если клиент проходил в зал более 9 месяцев, то вероятность что он уйдет снижается,\n",
    "- посещают зал в среднем 1,5 раза в неделю, в то время как оставшиеся клиенты в среднем 2 и более раза. и в последнем месяце оттекшие клиенты начинают посещать в среднем 1 раз в неделю.\n",
    "\n",
    "стабильнее всех ходят клиенты пришедшие по программам и работающие рядом с залом, посещающие групповые занятия, а также люди старше 27. и они же больше всех тратят на доп услуги.\n",
    "\n",
    "**Маркетинговые действия:**\n",
    "- расширять партнерскую сеть на компании располагающиеся неподалеку от зала\n",
    "- надо продвигать групповые занятия, особенно среди молодый клиентов, чтобы удерживать их. можно крутить промо-ролики занятий (типо трейлеров) на телевизорах в зале.\n",
    "- продвигать абонементы 6-12 мес. сделать такую цену, чтобы при пересчете на месячный абонемент получалось немного дешевле чем покупать абонемент на месяц. или дарить небольшой сувенир с мерчем при покупке годового абонемента (держатель для волос, эспандер-рязинка и тд)\n",
    "- целевая аудитория 27+, следует ориентировать рекламу на них.\n",
    "- остановить программу \"приведи друга\", она не очень эффективна, самые стабильные и прибыльные клиенты редко приходят по этой программе."
   ]
  }
 ],
 "metadata": {
  "ExecuteTimeLog": [
   {
    "duration": 2006,
    "start_time": "2021-06-25T04:49:30.069Z"
   },
   {
    "duration": 133,
    "start_time": "2021-06-25T04:49:35.406Z"
   },
   {
    "duration": 332,
    "start_time": "2021-06-25T04:49:39.527Z"
   },
   {
    "duration": 4,
    "start_time": "2021-06-25T04:49:44.742Z"
   },
   {
    "duration": 25,
    "start_time": "2021-06-25T04:52:14.572Z"
   },
   {
    "duration": 47,
    "start_time": "2021-06-25T04:52:18.256Z"
   },
   {
    "duration": 36,
    "start_time": "2021-06-25T04:53:09.646Z"
   },
   {
    "duration": 392,
    "start_time": "2021-06-25T04:53:32.008Z"
   },
   {
    "duration": 383,
    "start_time": "2021-06-25T04:54:03.392Z"
   },
   {
    "duration": 41469,
    "start_time": "2021-06-25T04:56:00.051Z"
   },
   {
    "duration": 541,
    "start_time": "2021-06-25T04:57:31.875Z"
   },
   {
    "duration": 19552,
    "start_time": "2021-06-25T04:57:50.992Z"
   },
   {
    "duration": 3,
    "start_time": "2021-06-25T04:59:04.098Z"
   },
   {
    "duration": 120,
    "start_time": "2021-06-25T04:59:39.620Z"
   },
   {
    "duration": 114,
    "start_time": "2021-06-25T05:03:53.304Z"
   },
   {
    "duration": 111,
    "start_time": "2021-06-25T05:05:04.926Z"
   },
   {
    "duration": 108,
    "start_time": "2021-06-25T05:05:46.509Z"
   },
   {
    "duration": 97,
    "start_time": "2021-06-25T05:05:49.397Z"
   },
   {
    "duration": 402,
    "start_time": "2021-06-25T05:06:01.950Z"
   },
   {
    "duration": 121,
    "start_time": "2021-06-25T05:06:50.377Z"
   },
   {
    "duration": 108,
    "start_time": "2021-06-25T05:06:55.871Z"
   },
   {
    "duration": 4,
    "start_time": "2021-06-25T16:09:27.291Z"
   },
   {
    "duration": 110,
    "start_time": "2021-06-25T16:09:27.918Z"
   },
   {
    "duration": 4,
    "start_time": "2021-06-25T16:09:30.180Z"
   },
   {
    "duration": 136,
    "start_time": "2021-06-25T16:11:15.206Z"
   },
   {
    "duration": 6,
    "start_time": "2021-06-25T16:29:42.517Z"
   },
   {
    "duration": 105,
    "start_time": "2021-06-25T16:32:20.914Z"
   },
   {
    "duration": 334,
    "start_time": "2021-06-25T16:32:27.551Z"
   },
   {
    "duration": 640,
    "start_time": "2021-06-25T16:32:41.263Z"
   },
   {
    "duration": 6,
    "start_time": "2021-06-25T16:38:17.365Z"
   },
   {
    "duration": 637,
    "start_time": "2021-06-25T16:38:17.754Z"
   },
   {
    "duration": 3,
    "start_time": "2021-06-25T16:41:22.855Z"
   },
   {
    "duration": 1150,
    "start_time": "2021-06-25T16:41:26.677Z"
   },
   {
    "duration": 6,
    "start_time": "2021-06-25T16:41:38.741Z"
   },
   {
    "duration": 1116,
    "start_time": "2021-06-25T16:41:39.205Z"
   },
   {
    "duration": 7,
    "start_time": "2021-06-25T16:41:54.912Z"
   },
   {
    "duration": 1073,
    "start_time": "2021-06-25T16:41:55.275Z"
   },
   {
    "duration": 7,
    "start_time": "2021-06-25T16:42:03.152Z"
   },
   {
    "duration": 1059,
    "start_time": "2021-06-25T16:42:03.322Z"
   },
   {
    "duration": 7,
    "start_time": "2021-06-25T16:43:23.517Z"
   },
   {
    "duration": 1090,
    "start_time": "2021-06-25T16:43:23.956Z"
   },
   {
    "duration": 6,
    "start_time": "2021-06-25T16:43:32.102Z"
   },
   {
    "duration": 1147,
    "start_time": "2021-06-25T16:43:32.653Z"
   },
   {
    "duration": 7,
    "start_time": "2021-06-25T16:45:55.452Z"
   },
   {
    "duration": 8345,
    "start_time": "2021-06-25T16:45:55.831Z"
   },
   {
    "duration": 7,
    "start_time": "2021-06-25T16:49:36.787Z"
   },
   {
    "duration": 8046,
    "start_time": "2021-06-25T16:49:37.034Z"
   },
   {
    "duration": 6,
    "start_time": "2021-06-25T16:50:09.060Z"
   },
   {
    "duration": 8035,
    "start_time": "2021-06-25T16:50:09.302Z"
   },
   {
    "duration": 6,
    "start_time": "2021-06-25T16:50:19.997Z"
   },
   {
    "duration": 8372,
    "start_time": "2021-06-25T16:50:20.623Z"
   },
   {
    "duration": 7,
    "start_time": "2021-06-25T16:51:38.295Z"
   },
   {
    "duration": 1248,
    "start_time": "2021-06-25T16:51:38.651Z"
   },
   {
    "duration": 6,
    "start_time": "2021-06-25T16:51:48.490Z"
   },
   {
    "duration": 8667,
    "start_time": "2021-06-25T16:51:48.688Z"
   },
   {
    "duration": 6,
    "start_time": "2021-06-25T16:52:23.365Z"
   },
   {
    "duration": 11538,
    "start_time": "2021-06-25T16:52:23.605Z"
   },
   {
    "duration": 9,
    "start_time": "2021-06-25T16:52:47.318Z"
   },
   {
    "duration": 12111,
    "start_time": "2021-06-25T16:52:47.544Z"
   },
   {
    "duration": 24,
    "start_time": "2021-06-25T16:55:11.748Z"
   },
   {
    "duration": 44,
    "start_time": "2021-06-25T16:55:43.799Z"
   },
   {
    "duration": 711,
    "start_time": "2021-06-25T16:56:17.547Z"
   },
   {
    "duration": 129,
    "start_time": "2021-06-25T16:56:27.233Z"
   },
   {
    "duration": 1639,
    "start_time": "2021-06-25T17:16:17.843Z"
   },
   {
    "duration": 102,
    "start_time": "2021-06-25T17:16:40.583Z"
   },
   {
    "duration": 363,
    "start_time": "2021-06-25T17:26:17.423Z"
   },
   {
    "duration": 125,
    "start_time": "2021-06-25T17:26:40.028Z"
   },
   {
    "duration": 63,
    "start_time": "2021-06-25T17:26:52.037Z"
   },
   {
    "duration": 327,
    "start_time": "2021-06-25T17:26:58.422Z"
   },
   {
    "duration": 5,
    "start_time": "2021-06-25T17:27:14.636Z"
   },
   {
    "duration": 93,
    "start_time": "2021-06-25T17:27:18.972Z"
   },
   {
    "duration": 216,
    "start_time": "2021-06-25T17:27:40.951Z"
   },
   {
    "duration": 93,
    "start_time": "2021-06-25T17:28:18.174Z"
   },
   {
    "duration": 388,
    "start_time": "2021-06-25T17:42:24.519Z"
   },
   {
    "duration": 31,
    "start_time": "2021-06-25T17:42:52.823Z"
   },
   {
    "duration": 343,
    "start_time": "2021-06-25T17:42:59.048Z"
   },
   {
    "duration": 756,
    "start_time": "2021-06-25T17:46:14.055Z"
   },
   {
    "duration": 6,
    "start_time": "2021-06-25T17:46:44.042Z"
   },
   {
    "duration": 614,
    "start_time": "2021-06-25T17:48:42.439Z"
   },
   {
    "duration": 5,
    "start_time": "2021-06-25T17:49:19.496Z"
   },
   {
    "duration": 18,
    "start_time": "2021-06-25T17:49:25.510Z"
   },
   {
    "duration": 18,
    "start_time": "2021-06-25T17:50:05.063Z"
   },
   {
    "duration": 118,
    "start_time": "2021-06-25T18:42:06.355Z"
   },
   {
    "duration": 5,
    "start_time": "2021-06-25T18:42:11.320Z"
   },
   {
    "duration": 325,
    "start_time": "2021-06-25T18:53:23.967Z"
   },
   {
    "duration": 10,
    "start_time": "2021-06-25T18:53:33.148Z"
   },
   {
    "duration": 324,
    "start_time": "2021-06-25T19:00:41.572Z"
   },
   {
    "duration": 5,
    "start_time": "2021-06-25T19:00:52.275Z"
   },
   {
    "duration": 334,
    "start_time": "2021-06-25T19:00:57.397Z"
   },
   {
    "duration": 160845,
    "start_time": "2021-06-25T19:01:23.001Z"
   },
   {
    "duration": 23,
    "start_time": "2021-06-25T19:16:59.596Z"
   },
   {
    "duration": 1838,
    "start_time": "2021-06-25T19:18:42.032Z"
   },
   {
    "duration": 2230,
    "start_time": "2021-06-25T19:26:46.194Z"
   },
   {
    "duration": 1795,
    "start_time": "2021-06-25T19:31:47.491Z"
   },
   {
    "duration": 1911,
    "start_time": "2021-06-25T19:34:24.335Z"
   },
   {
    "duration": 4,
    "start_time": "2021-06-25T20:02:25.629Z"
   },
   {
    "duration": 345,
    "start_time": "2021-06-25T20:11:11.171Z"
   },
   {
    "duration": 1723,
    "start_time": "2021-06-25T20:11:17.405Z"
   },
   {
    "duration": 5,
    "start_time": "2021-06-25T20:11:19.130Z"
   },
   {
    "duration": 3,
    "start_time": "2021-06-25T20:11:36.166Z"
   },
   {
    "duration": 5,
    "start_time": "2021-06-25T20:11:43.581Z"
   },
   {
    "duration": 5,
    "start_time": "2021-06-25T20:11:59.143Z"
   },
   {
    "duration": 29,
    "start_time": "2021-06-25T20:12:04.979Z"
   },
   {
    "duration": 1530,
    "start_time": "2021-06-26T04:48:02.755Z"
   },
   {
    "duration": 116,
    "start_time": "2021-06-26T04:48:04.288Z"
   },
   {
    "duration": 140,
    "start_time": "2021-06-26T04:48:04.694Z"
   },
   {
    "duration": 7,
    "start_time": "2021-06-26T04:48:05.241Z"
   },
   {
    "duration": 11351,
    "start_time": "2021-06-26T04:48:05.652Z"
   },
   {
    "duration": 718,
    "start_time": "2021-06-26T04:48:17.006Z"
   },
   {
    "duration": 98,
    "start_time": "2021-06-26T04:48:17.727Z"
   },
   {
    "duration": 673,
    "start_time": "2021-06-26T04:48:17.828Z"
   },
   {
    "duration": 26,
    "start_time": "2021-06-26T04:48:18.504Z"
   },
   {
    "duration": 133053,
    "start_time": "2021-06-26T04:48:18.532Z"
   },
   {
    "duration": 1582,
    "start_time": "2021-06-26T04:50:31.588Z"
   },
   {
    "duration": 28,
    "start_time": "2021-06-26T04:50:33.173Z"
   },
   {
    "duration": 12,
    "start_time": "2021-06-26T05:07:01.703Z"
   },
   {
    "duration": 9,
    "start_time": "2021-06-26T05:09:37.386Z"
   },
   {
    "duration": 1275,
    "start_time": "2021-06-26T05:11:24.422Z"
   },
   {
    "duration": 5509,
    "start_time": "2021-06-26T05:12:02.708Z"
   },
   {
    "duration": 6004,
    "start_time": "2021-06-26T05:12:46.036Z"
   },
   {
    "duration": 5654,
    "start_time": "2021-06-26T05:12:59.338Z"
   },
   {
    "duration": 5992,
    "start_time": "2021-06-26T05:13:44.316Z"
   },
   {
    "duration": 6275,
    "start_time": "2021-06-26T05:16:19.501Z"
   },
   {
    "duration": 5999,
    "start_time": "2021-06-26T05:16:50.898Z"
   },
   {
    "duration": 5976,
    "start_time": "2021-06-26T05:17:08.461Z"
   },
   {
    "duration": 132,
    "start_time": "2021-06-26T05:19:02.844Z"
   },
   {
    "duration": 6173,
    "start_time": "2021-06-26T05:19:16.104Z"
   },
   {
    "duration": 6248,
    "start_time": "2021-06-26T05:20:04.841Z"
   },
   {
    "duration": 6155,
    "start_time": "2021-06-26T05:21:17.569Z"
   },
   {
    "duration": 6002,
    "start_time": "2021-06-26T05:21:35.145Z"
   },
   {
    "duration": 6545,
    "start_time": "2021-06-26T05:21:58.428Z"
   },
   {
    "duration": 6321,
    "start_time": "2021-06-26T05:22:36.763Z"
   },
   {
    "duration": 6223,
    "start_time": "2021-06-26T05:23:23.827Z"
   },
   {
    "duration": 5,
    "start_time": "2021-06-26T06:15:08.716Z"
   },
   {
    "duration": 113,
    "start_time": "2021-06-26T06:15:09.724Z"
   },
   {
    "duration": 141,
    "start_time": "2021-06-26T06:15:10.268Z"
   },
   {
    "duration": 6,
    "start_time": "2021-06-26T06:15:10.796Z"
   },
   {
    "duration": 11137,
    "start_time": "2021-06-26T06:15:11.076Z"
   },
   {
    "duration": 123,
    "start_time": "2021-06-26T06:15:22.216Z"
   },
   {
    "duration": 94,
    "start_time": "2021-06-26T06:15:22.342Z"
   },
   {
    "duration": 686,
    "start_time": "2021-06-26T06:15:22.439Z"
   },
   {
    "duration": 17,
    "start_time": "2021-06-26T06:15:23.128Z"
   },
   {
    "duration": 135546,
    "start_time": "2021-06-26T06:15:23.147Z"
   },
   {
    "duration": 1770,
    "start_time": "2021-06-26T06:17:38.695Z"
   },
   {
    "duration": 12,
    "start_time": "2021-06-26T06:17:40.468Z"
   },
   {
    "duration": 5921,
    "start_time": "2021-06-26T06:17:40.483Z"
   },
   {
    "duration": 290,
    "start_time": "2021-06-26T06:20:08.846Z"
   },
   {
    "duration": 1361,
    "start_time": "2021-06-26T06:20:16.013Z"
   },
   {
    "duration": 1474,
    "start_time": "2021-06-26T06:22:39.595Z"
   },
   {
    "duration": 114,
    "start_time": "2021-06-26T06:22:41.072Z"
   },
   {
    "duration": 156,
    "start_time": "2021-06-26T06:22:41.189Z"
   },
   {
    "duration": 6,
    "start_time": "2021-06-26T06:22:41.348Z"
   },
   {
    "duration": 11150,
    "start_time": "2021-06-26T06:22:41.357Z"
   },
   {
    "duration": 715,
    "start_time": "2021-06-26T06:22:52.509Z"
   },
   {
    "duration": 100,
    "start_time": "2021-06-26T06:22:53.226Z"
   },
   {
    "duration": 662,
    "start_time": "2021-06-26T06:22:53.330Z"
   },
   {
    "duration": 17,
    "start_time": "2021-06-26T06:22:53.994Z"
   },
   {
    "duration": 438,
    "start_time": "2021-06-26T06:22:54.024Z"
   },
   {
    "duration": 1101,
    "start_time": "2021-06-26T06:22:53.364Z"
   },
   {
    "duration": 1096,
    "start_time": "2021-06-26T06:22:53.370Z"
   },
   {
    "duration": 1090,
    "start_time": "2021-06-26T06:22:53.377Z"
   },
   {
    "duration": 133020,
    "start_time": "2021-06-26T06:23:02.967Z"
   },
   {
    "duration": 1787,
    "start_time": "2021-06-26T06:25:15.989Z"
   },
   {
    "duration": 1555,
    "start_time": "2021-06-26T06:28:34.850Z"
   },
   {
    "duration": 133,
    "start_time": "2021-06-26T06:28:36.408Z"
   },
   {
    "duration": 151,
    "start_time": "2021-06-26T06:28:36.544Z"
   },
   {
    "duration": 5,
    "start_time": "2021-06-26T06:28:36.698Z"
   },
   {
    "duration": 11938,
    "start_time": "2021-06-26T06:28:36.705Z"
   },
   {
    "duration": 981,
    "start_time": "2021-06-26T06:28:48.646Z"
   },
   {
    "duration": 96,
    "start_time": "2021-06-26T06:28:49.630Z"
   },
   {
    "duration": 687,
    "start_time": "2021-06-26T06:28:49.730Z"
   },
   {
    "duration": 17,
    "start_time": "2021-06-26T06:28:50.420Z"
   },
   {
    "duration": 133116,
    "start_time": "2021-06-26T06:28:50.440Z"
   },
   {
    "duration": 1706,
    "start_time": "2021-06-26T06:31:03.559Z"
   },
   {
    "duration": 13,
    "start_time": "2021-06-26T06:31:05.268Z"
   },
   {
    "duration": 5987,
    "start_time": "2021-06-26T06:31:05.283Z"
   },
   {
    "duration": 1836,
    "start_time": "2021-06-26T06:31:27.912Z"
   },
   {
    "duration": 1733,
    "start_time": "2021-06-26T06:32:33.257Z"
   },
   {
    "duration": 1557,
    "start_time": "2021-06-26T06:38:09.336Z"
   },
   {
    "duration": 130,
    "start_time": "2021-06-26T06:38:10.896Z"
   },
   {
    "duration": 158,
    "start_time": "2021-06-26T06:38:11.028Z"
   },
   {
    "duration": 6,
    "start_time": "2021-06-26T06:38:11.190Z"
   },
   {
    "duration": 11657,
    "start_time": "2021-06-26T06:38:11.319Z"
   },
   {
    "duration": 1033,
    "start_time": "2021-06-26T06:38:22.979Z"
   },
   {
    "duration": 60,
    "start_time": "2021-06-26T06:38:24.023Z"
   },
   {
    "duration": 523,
    "start_time": "2021-06-26T06:38:24.087Z"
   },
   {
    "duration": 26,
    "start_time": "2021-06-26T06:38:24.613Z"
   },
   {
    "duration": 137683,
    "start_time": "2021-06-26T06:38:24.641Z"
   },
   {
    "duration": 1349,
    "start_time": "2021-06-26T06:40:42.326Z"
   },
   {
    "duration": 12,
    "start_time": "2021-06-26T06:40:43.678Z"
   },
   {
    "duration": 6096,
    "start_time": "2021-06-26T06:40:43.693Z"
   },
   {
    "duration": 9,
    "start_time": "2021-06-26T06:40:49.791Z"
   },
   {
    "duration": 9059,
    "start_time": "2021-06-26T06:40:49.802Z"
   },
   {
    "duration": 1630,
    "start_time": "2021-06-26T06:42:03.053Z"
   },
   {
    "duration": 1162,
    "start_time": "2021-06-26T08:50:08.201Z"
   },
   {
    "duration": 83,
    "start_time": "2021-06-26T08:50:11.927Z"
   },
   {
    "duration": 86,
    "start_time": "2021-06-26T08:50:12.477Z"
   },
   {
    "duration": 5,
    "start_time": "2021-06-26T08:50:13.014Z"
   },
   {
    "duration": 5241,
    "start_time": "2021-06-26T08:50:13.356Z"
   },
   {
    "duration": 392,
    "start_time": "2021-06-26T08:50:18.599Z"
   },
   {
    "duration": 33,
    "start_time": "2021-06-26T08:50:18.994Z"
   },
   {
    "duration": 322,
    "start_time": "2021-06-26T08:50:19.028Z"
   },
   {
    "duration": 11,
    "start_time": "2021-06-26T08:50:19.352Z"
   },
   {
    "duration": 85575,
    "start_time": "2021-06-26T08:50:19.365Z"
   },
   {
    "duration": 1571,
    "start_time": "2021-06-26T08:51:44.942Z"
   },
   {
    "duration": 7,
    "start_time": "2021-06-26T08:51:46.515Z"
   },
   {
    "duration": 3928,
    "start_time": "2021-06-26T08:51:46.524Z"
   },
   {
    "duration": 294,
    "start_time": "2021-06-26T09:00:40.283Z"
   },
   {
    "duration": 190,
    "start_time": "2021-06-26T09:00:46.438Z"
   },
   {
    "duration": 3899,
    "start_time": "2021-06-26T09:00:50.464Z"
   },
   {
    "duration": 476,
    "start_time": "2021-06-27T08:23:27.210Z"
   },
   {
    "duration": 1986,
    "start_time": "2021-06-27T08:23:29.708Z"
   },
   {
    "duration": 52,
    "start_time": "2021-06-27T08:23:33.617Z"
   },
   {
    "duration": 129,
    "start_time": "2021-06-27T08:23:34.622Z"
   },
   {
    "duration": 148,
    "start_time": "2021-06-27T08:27:26.928Z"
   },
   {
    "duration": 10,
    "start_time": "2021-06-27T08:27:27.956Z"
   },
   {
    "duration": 9394,
    "start_time": "2021-06-27T08:27:28.497Z"
   },
   {
    "duration": 858,
    "start_time": "2021-06-27T08:27:37.894Z"
   },
   {
    "duration": 79,
    "start_time": "2021-06-27T08:27:38.755Z"
   },
   {
    "duration": 401,
    "start_time": "2021-06-27T08:27:52.245Z"
   },
   {
    "duration": 59,
    "start_time": "2021-06-27T08:40:08.966Z"
   },
   {
    "duration": 523,
    "start_time": "2021-06-27T08:40:12.257Z"
   },
   {
    "duration": 8574,
    "start_time": "2021-06-27T09:01:50.829Z"
   },
   {
    "duration": 525,
    "start_time": "2021-06-27T09:01:58.881Z"
   },
   {
    "duration": 741,
    "start_time": "2021-06-27T09:02:02.528Z"
   },
   {
    "duration": 1601,
    "start_time": "2021-06-27T09:02:24.504Z"
   },
   {
    "duration": 130,
    "start_time": "2021-06-27T09:02:26.109Z"
   },
   {
    "duration": 168,
    "start_time": "2021-06-27T09:02:26.242Z"
   },
   {
    "duration": 8,
    "start_time": "2021-06-27T09:02:26.413Z"
   },
   {
    "duration": 9005,
    "start_time": "2021-06-27T09:02:26.534Z"
   },
   {
    "duration": 917,
    "start_time": "2021-06-27T09:02:35.542Z"
   },
   {
    "duration": 78,
    "start_time": "2021-06-27T09:02:36.463Z"
   },
   {
    "duration": 511,
    "start_time": "2021-06-27T09:02:36.544Z"
   },
   {
    "duration": 19,
    "start_time": "2021-06-27T09:02:37.058Z"
   },
   {
    "duration": 143319,
    "start_time": "2021-06-27T09:02:37.079Z"
   },
   {
    "duration": 1967,
    "start_time": "2021-06-27T09:05:00.400Z"
   },
   {
    "duration": 14,
    "start_time": "2021-06-27T09:05:02.370Z"
   },
   {
    "duration": 1963,
    "start_time": "2021-06-27T09:05:02.386Z"
   },
   {
    "duration": 1083,
    "start_time": "2021-06-27T09:21:49.816Z"
   },
   {
    "duration": 897,
    "start_time": "2021-06-27T09:25:42.086Z"
   },
   {
    "duration": 2520,
    "start_time": "2021-06-27T09:28:25.156Z"
   },
   {
    "duration": 769,
    "start_time": "2021-06-27T09:28:27.679Z"
   },
   {
    "duration": 6,
    "start_time": "2021-06-27T09:28:40.235Z"
   },
   {
    "duration": 923,
    "start_time": "2021-06-27T09:28:42.744Z"
   },
   {
    "duration": 837,
    "start_time": "2021-06-27T09:28:53.175Z"
   },
   {
    "duration": 3180,
    "start_time": "2021-06-27T09:28:57.731Z"
   },
   {
    "duration": 2497,
    "start_time": "2021-06-27T09:30:45.661Z"
   },
   {
    "duration": 2599,
    "start_time": "2021-06-27T09:30:49.782Z"
   },
   {
    "duration": 441,
    "start_time": "2021-06-27T09:30:53.236Z"
   },
   {
    "duration": 2397,
    "start_time": "2021-06-27T09:30:58.230Z"
   },
   {
    "duration": 2917,
    "start_time": "2021-06-27T09:33:25.125Z"
   },
   {
    "duration": 4879,
    "start_time": "2021-06-27T09:34:05.426Z"
   },
   {
    "duration": 4664,
    "start_time": "2021-06-27T09:34:50.228Z"
   },
   {
    "duration": 2554,
    "start_time": "2021-06-27T09:38:52.239Z"
   },
   {
    "duration": 1934,
    "start_time": "2021-06-27T09:39:10.126Z"
   },
   {
    "duration": 1809,
    "start_time": "2021-06-27T09:39:19.760Z"
   },
   {
    "duration": 2407,
    "start_time": "2021-06-27T09:39:43.681Z"
   },
   {
    "duration": 4163,
    "start_time": "2021-06-27T09:39:56.790Z"
   },
   {
    "duration": 1562,
    "start_time": "2021-06-27T10:03:39.041Z"
   },
   {
    "duration": 132,
    "start_time": "2021-06-27T10:03:40.606Z"
   },
   {
    "duration": 169,
    "start_time": "2021-06-27T10:03:40.741Z"
   },
   {
    "duration": 9,
    "start_time": "2021-06-27T10:03:40.913Z"
   },
   {
    "duration": 9152,
    "start_time": "2021-06-27T10:03:40.924Z"
   },
   {
    "duration": 841,
    "start_time": "2021-06-27T10:03:50.078Z"
   },
   {
    "duration": 87,
    "start_time": "2021-06-27T10:03:50.922Z"
   },
   {
    "duration": 615,
    "start_time": "2021-06-27T10:03:51.019Z"
   },
   {
    "duration": 19,
    "start_time": "2021-06-27T10:03:51.636Z"
   },
   {
    "duration": 150132,
    "start_time": "2021-06-27T10:03:51.657Z"
   },
   {
    "duration": 1966,
    "start_time": "2021-06-27T10:06:21.792Z"
   },
   {
    "duration": 2436,
    "start_time": "2021-06-27T10:06:23.761Z"
   },
   {
    "duration": 4570,
    "start_time": "2021-06-27T10:06:26.200Z"
   },
   {
    "duration": 1854,
    "start_time": "2021-06-28T08:06:43.270Z"
   },
   {
    "duration": 198,
    "start_time": "2021-06-28T08:06:45.126Z"
   },
   {
    "duration": 191,
    "start_time": "2021-06-28T08:06:45.326Z"
   },
   {
    "duration": 5,
    "start_time": "2021-06-28T08:06:45.520Z"
   },
   {
    "duration": 11185,
    "start_time": "2021-06-28T08:06:45.526Z"
   },
   {
    "duration": 997,
    "start_time": "2021-06-28T08:06:56.713Z"
   },
   {
    "duration": 172,
    "start_time": "2021-06-28T08:06:57.712Z"
   },
   {
    "duration": 713,
    "start_time": "2021-06-28T08:06:57.887Z"
   },
   {
    "duration": 12,
    "start_time": "2021-06-28T08:06:58.602Z"
   },
   {
    "duration": 104240,
    "start_time": "2021-06-28T08:06:58.615Z"
   },
   {
    "duration": 1550,
    "start_time": "2021-06-28T08:08:42.857Z"
   },
   {
    "duration": 1481,
    "start_time": "2021-06-28T08:08:44.408Z"
   },
   {
    "duration": 3023,
    "start_time": "2021-06-28T08:08:45.890Z"
   }
  ],
  "kernelspec": {
   "display_name": "Python 3",
   "language": "python",
   "name": "python3"
  },
  "language_info": {
   "codemirror_mode": {
    "name": "ipython",
    "version": 3
   },
   "file_extension": ".py",
   "mimetype": "text/x-python",
   "name": "python",
   "nbconvert_exporter": "python",
   "pygments_lexer": "ipython3",
   "version": "3.8.5"
  },
  "toc": {
   "base_numbering": 1,
   "nav_menu": {},
   "number_sections": true,
   "sideBar": true,
   "skip_h1_title": true,
   "title_cell": "Table of Contents",
   "title_sidebar": "Contents",
   "toc_cell": false,
   "toc_position": {},
   "toc_section_display": true,
   "toc_window_display": false
  }
 },
 "nbformat": 4,
 "nbformat_minor": 2
}
